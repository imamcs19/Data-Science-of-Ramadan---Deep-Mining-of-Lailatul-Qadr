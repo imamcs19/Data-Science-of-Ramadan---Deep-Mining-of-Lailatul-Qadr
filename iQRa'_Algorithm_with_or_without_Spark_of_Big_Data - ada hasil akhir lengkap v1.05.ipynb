{
  "nbformat": 4,
  "nbformat_minor": 0,
  "metadata": {
    "colab": {
      "name": "iQRa' Algorithm with or without Spark of Big Data.ipynb",
      "provenance": [],
      "collapsed_sections": []
    },
    "kernelspec": {
      "name": "python3",
      "display_name": "Python 3"
    }
  },
  "cells": [
    {
      "cell_type": "code",
      "metadata": {
        "id": "7oNWfq2K0ILF",
        "colab_type": "code",
        "colab": {
          "base_uri": "https://localhost:8080/",
          "height": 129
        },
        "outputId": "4cc23378-dd59-4b90-bbd7-414edcc46b22"
      },
      "source": [
        "# ============================\n",
        "# By: Imam Cholissodin | imamcs@ub.ac.id\n",
        "# Fakultas Ilmu Komputer (Filkom)\n",
        "# Universitas Brawijaya (UB)\n",
        "# Tgl 20 Mei 2020\n",
        "# Semoga Bermanfaat. Aamiin :D\n",
        "# ====================================\n",
        "from google.colab import drive\n",
        "drive.mount('/content/drive')"
      ],
      "execution_count": 1,
      "outputs": [
        {
          "output_type": "stream",
          "text": [
            "Go to this URL in a browser: https://accounts.google.com/o/oauth2/auth?client_id=947318989803-6bn6qk8qdgf4n4g3pfee6491hc0brc4i.apps.googleusercontent.com&redirect_uri=urn%3aietf%3awg%3aoauth%3a2.0%3aoob&response_type=code&scope=email%20https%3a%2f%2fwww.googleapis.com%2fauth%2fdocs.test%20https%3a%2f%2fwww.googleapis.com%2fauth%2fdrive%20https%3a%2f%2fwww.googleapis.com%2fauth%2fdrive.photos.readonly%20https%3a%2f%2fwww.googleapis.com%2fauth%2fpeopleapi.readonly\n",
            "\n",
            "Enter your authorization code:\n",
            "··········\n",
            "Mounted at /content/drive\n"
          ],
          "name": "stdout"
        }
      ]
    },
    {
      "cell_type": "code",
      "metadata": {
        "id": "iQ1kjUcZ2n9u",
        "colab_type": "code",
        "colab": {
          "base_uri": "https://localhost:8080/",
          "height": 54
        },
        "outputId": "0808a8a0-b76c-494c-b0aa-73ecc365881d"
      },
      "source": [
        "import os\n",
        "!pwd\n",
        "os.chdir(\"/content/drive/My Drive\")\n",
        "!pwd"
      ],
      "execution_count": 2,
      "outputs": [
        {
          "output_type": "stream",
          "text": [
            "/content\n",
            "/content/drive/My Drive\n"
          ],
          "name": "stdout"
        }
      ]
    },
    {
      "cell_type": "code",
      "metadata": {
        "id": "P6gbQSDZ2SIJ",
        "colab_type": "code",
        "colab": {}
      },
      "source": [
        "#!mkdir Iqra_Algorithm\n",
        "os.chdir(\"/content/drive/My Drive/Iqra_Algorithm\")"
      ],
      "execution_count": 0,
      "outputs": []
    },
    {
      "cell_type": "code",
      "metadata": {
        "id": "4u4YeXYy3KGI",
        "colab_type": "code",
        "colab": {
          "base_uri": "https://localhost:8080/",
          "height": 35
        },
        "outputId": "9950bf02-6573-4229-994e-aa78f2868959"
      },
      "source": [
        "!pwd"
      ],
      "execution_count": 4,
      "outputs": [
        {
          "output_type": "stream",
          "text": [
            "/content/drive/My Drive/Iqra_Algorithm\n"
          ],
          "name": "stdout"
        }
      ]
    },
    {
      "cell_type": "code",
      "metadata": {
        "id": "VVLvwVEI3M15",
        "colab_type": "code",
        "colab": {
          "resources": {
            "http://localhost:8080/nbextensions/google.colab/files.js": {
              "data": "Ly8gQ29weXJpZ2h0IDIwMTcgR29vZ2xlIExMQwovLwovLyBMaWNlbnNlZCB1bmRlciB0aGUgQXBhY2hlIExpY2Vuc2UsIFZlcnNpb24gMi4wICh0aGUgIkxpY2Vuc2UiKTsKLy8geW91IG1heSBub3QgdXNlIHRoaXMgZmlsZSBleGNlcHQgaW4gY29tcGxpYW5jZSB3aXRoIHRoZSBMaWNlbnNlLgovLyBZb3UgbWF5IG9idGFpbiBhIGNvcHkgb2YgdGhlIExpY2Vuc2UgYXQKLy8KLy8gICAgICBodHRwOi8vd3d3LmFwYWNoZS5vcmcvbGljZW5zZXMvTElDRU5TRS0yLjAKLy8KLy8gVW5sZXNzIHJlcXVpcmVkIGJ5IGFwcGxpY2FibGUgbGF3IG9yIGFncmVlZCB0byBpbiB3cml0aW5nLCBzb2Z0d2FyZQovLyBkaXN0cmlidXRlZCB1bmRlciB0aGUgTGljZW5zZSBpcyBkaXN0cmlidXRlZCBvbiBhbiAiQVMgSVMiIEJBU0lTLAovLyBXSVRIT1VUIFdBUlJBTlRJRVMgT1IgQ09ORElUSU9OUyBPRiBBTlkgS0lORCwgZWl0aGVyIGV4cHJlc3Mgb3IgaW1wbGllZC4KLy8gU2VlIHRoZSBMaWNlbnNlIGZvciB0aGUgc3BlY2lmaWMgbGFuZ3VhZ2UgZ292ZXJuaW5nIHBlcm1pc3Npb25zIGFuZAovLyBsaW1pdGF0aW9ucyB1bmRlciB0aGUgTGljZW5zZS4KCi8qKgogKiBAZmlsZW92ZXJ2aWV3IEhlbHBlcnMgZm9yIGdvb2dsZS5jb2xhYiBQeXRob24gbW9kdWxlLgogKi8KKGZ1bmN0aW9uKHNjb3BlKSB7CmZ1bmN0aW9uIHNwYW4odGV4dCwgc3R5bGVBdHRyaWJ1dGVzID0ge30pIHsKICBjb25zdCBlbGVtZW50ID0gZG9jdW1lbnQuY3JlYXRlRWxlbWVudCgnc3BhbicpOwogIGVsZW1lbnQudGV4dENvbnRlbnQgPSB0ZXh0OwogIGZvciAoY29uc3Qga2V5IG9mIE9iamVjdC5rZXlzKHN0eWxlQXR0cmlidXRlcykpIHsKICAgIGVsZW1lbnQuc3R5bGVba2V5XSA9IHN0eWxlQXR0cmlidXRlc1trZXldOwogIH0KICByZXR1cm4gZWxlbWVudDsKfQoKLy8gTWF4IG51bWJlciBvZiBieXRlcyB3aGljaCB3aWxsIGJlIHVwbG9hZGVkIGF0IGEgdGltZS4KY29uc3QgTUFYX1BBWUxPQURfU0laRSA9IDEwMCAqIDEwMjQ7Ci8vIE1heCBhbW91bnQgb2YgdGltZSB0byBibG9jayB3YWl0aW5nIGZvciB0aGUgdXNlci4KY29uc3QgRklMRV9DSEFOR0VfVElNRU9VVF9NUyA9IDMwICogMTAwMDsKCmZ1bmN0aW9uIF91cGxvYWRGaWxlcyhpbnB1dElkLCBvdXRwdXRJZCkgewogIGNvbnN0IHN0ZXBzID0gdXBsb2FkRmlsZXNTdGVwKGlucHV0SWQsIG91dHB1dElkKTsKICBjb25zdCBvdXRwdXRFbGVtZW50ID0gZG9jdW1lbnQuZ2V0RWxlbWVudEJ5SWQob3V0cHV0SWQpOwogIC8vIENhY2hlIHN0ZXBzIG9uIHRoZSBvdXRwdXRFbGVtZW50IHRvIG1ha2UgaXQgYXZhaWxhYmxlIGZvciB0aGUgbmV4dCBjYWxsCiAgLy8gdG8gdXBsb2FkRmlsZXNDb250aW51ZSBmcm9tIFB5dGhvbi4KICBvdXRwdXRFbGVtZW50LnN0ZXBzID0gc3RlcHM7CgogIHJldHVybiBfdXBsb2FkRmlsZXNDb250aW51ZShvdXRwdXRJZCk7Cn0KCi8vIFRoaXMgaXMgcm91Z2hseSBhbiBhc3luYyBnZW5lcmF0b3IgKG5vdCBzdXBwb3J0ZWQgaW4gdGhlIGJyb3dzZXIgeWV0KSwKLy8gd2hlcmUgdGhlcmUgYXJlIG11bHRpcGxlIGFzeW5jaHJvbm91cyBzdGVwcyBhbmQgdGhlIFB5dGhvbiBzaWRlIGlzIGdvaW5nCi8vIHRvIHBvbGwgZm9yIGNvbXBsZXRpb24gb2YgZWFjaCBzdGVwLgovLyBUaGlzIHVzZXMgYSBQcm9taXNlIHRvIGJsb2NrIHRoZSBweXRob24gc2lkZSBvbiBjb21wbGV0aW9uIG9mIGVhY2ggc3RlcCwKLy8gdGhlbiBwYXNzZXMgdGhlIHJlc3VsdCBvZiB0aGUgcHJldmlvdXMgc3RlcCBhcyB0aGUgaW5wdXQgdG8gdGhlIG5leHQgc3RlcC4KZnVuY3Rpb24gX3VwbG9hZEZpbGVzQ29udGludWUob3V0cHV0SWQpIHsKICBjb25zdCBvdXRwdXRFbGVtZW50ID0gZG9jdW1lbnQuZ2V0RWxlbWVudEJ5SWQob3V0cHV0SWQpOwogIGNvbnN0IHN0ZXBzID0gb3V0cHV0RWxlbWVudC5zdGVwczsKCiAgY29uc3QgbmV4dCA9IHN0ZXBzLm5leHQob3V0cHV0RWxlbWVudC5sYXN0UHJvbWlzZVZhbHVlKTsKICByZXR1cm4gUHJvbWlzZS5yZXNvbHZlKG5leHQudmFsdWUucHJvbWlzZSkudGhlbigodmFsdWUpID0+IHsKICAgIC8vIENhY2hlIHRoZSBsYXN0IHByb21pc2UgdmFsdWUgdG8gbWFrZSBpdCBhdmFpbGFibGUgdG8gdGhlIG5leHQKICAgIC8vIHN0ZXAgb2YgdGhlIGdlbmVyYXRvci4KICAgIG91dHB1dEVsZW1lbnQubGFzdFByb21pc2VWYWx1ZSA9IHZhbHVlOwogICAgcmV0dXJuIG5leHQudmFsdWUucmVzcG9uc2U7CiAgfSk7Cn0KCi8qKgogKiBHZW5lcmF0b3IgZnVuY3Rpb24gd2hpY2ggaXMgY2FsbGVkIGJldHdlZW4gZWFjaCBhc3luYyBzdGVwIG9mIHRoZSB1cGxvYWQKICogcHJvY2Vzcy4KICogQHBhcmFtIHtzdHJpbmd9IGlucHV0SWQgRWxlbWVudCBJRCBvZiB0aGUgaW5wdXQgZmlsZSBwaWNrZXIgZWxlbWVudC4KICogQHBhcmFtIHtzdHJpbmd9IG91dHB1dElkIEVsZW1lbnQgSUQgb2YgdGhlIG91dHB1dCBkaXNwbGF5LgogKiBAcmV0dXJuIHshSXRlcmFibGU8IU9iamVjdD59IEl0ZXJhYmxlIG9mIG5leHQgc3RlcHMuCiAqLwpmdW5jdGlvbiogdXBsb2FkRmlsZXNTdGVwKGlucHV0SWQsIG91dHB1dElkKSB7CiAgY29uc3QgaW5wdXRFbGVtZW50ID0gZG9jdW1lbnQuZ2V0RWxlbWVudEJ5SWQoaW5wdXRJZCk7CiAgaW5wdXRFbGVtZW50LmRpc2FibGVkID0gZmFsc2U7CgogIGNvbnN0IG91dHB1dEVsZW1lbnQgPSBkb2N1bWVudC5nZXRFbGVtZW50QnlJZChvdXRwdXRJZCk7CiAgb3V0cHV0RWxlbWVudC5pbm5lckhUTUwgPSAnJzsKCiAgY29uc3QgcGlja2VkUHJvbWlzZSA9IG5ldyBQcm9taXNlKChyZXNvbHZlKSA9PiB7CiAgICBpbnB1dEVsZW1lbnQuYWRkRXZlbnRMaXN0ZW5lcignY2hhbmdlJywgKGUpID0+IHsKICAgICAgcmVzb2x2ZShlLnRhcmdldC5maWxlcyk7CiAgICB9KTsKICB9KTsKCiAgY29uc3QgY2FuY2VsID0gZG9jdW1lbnQuY3JlYXRlRWxlbWVudCgnYnV0dG9uJyk7CiAgaW5wdXRFbGVtZW50LnBhcmVudEVsZW1lbnQuYXBwZW5kQ2hpbGQoY2FuY2VsKTsKICBjYW5jZWwudGV4dENvbnRlbnQgPSAnQ2FuY2VsIHVwbG9hZCc7CiAgY29uc3QgY2FuY2VsUHJvbWlzZSA9IG5ldyBQcm9taXNlKChyZXNvbHZlKSA9PiB7CiAgICBjYW5jZWwub25jbGljayA9ICgpID0+IHsKICAgICAgcmVzb2x2ZShudWxsKTsKICAgIH07CiAgfSk7CgogIC8vIENhbmNlbCB1cGxvYWQgaWYgdXNlciBoYXNuJ3QgcGlja2VkIGFueXRoaW5nIGluIHRpbWVvdXQuCiAgY29uc3QgdGltZW91dFByb21pc2UgPSBuZXcgUHJvbWlzZSgocmVzb2x2ZSkgPT4gewogICAgc2V0VGltZW91dCgoKSA9PiB7CiAgICAgIHJlc29sdmUobnVsbCk7CiAgICB9LCBGSUxFX0NIQU5HRV9USU1FT1VUX01TKTsKICB9KTsKCiAgLy8gV2FpdCBmb3IgdGhlIHVzZXIgdG8gcGljayB0aGUgZmlsZXMuCiAgY29uc3QgZmlsZXMgPSB5aWVsZCB7CiAgICBwcm9taXNlOiBQcm9taXNlLnJhY2UoW3BpY2tlZFByb21pc2UsIHRpbWVvdXRQcm9taXNlLCBjYW5jZWxQcm9taXNlXSksCiAgICByZXNwb25zZTogewogICAgICBhY3Rpb246ICdzdGFydGluZycsCiAgICB9CiAgfTsKCiAgaWYgKCFmaWxlcykgewogICAgcmV0dXJuIHsKICAgICAgcmVzcG9uc2U6IHsKICAgICAgICBhY3Rpb246ICdjb21wbGV0ZScsCiAgICAgIH0KICAgIH07CiAgfQoKICBjYW5jZWwucmVtb3ZlKCk7CgogIC8vIERpc2FibGUgdGhlIGlucHV0IGVsZW1lbnQgc2luY2UgZnVydGhlciBwaWNrcyBhcmUgbm90IGFsbG93ZWQuCiAgaW5wdXRFbGVtZW50LmRpc2FibGVkID0gdHJ1ZTsKCiAgZm9yIChjb25zdCBmaWxlIG9mIGZpbGVzKSB7CiAgICBjb25zdCBsaSA9IGRvY3VtZW50LmNyZWF0ZUVsZW1lbnQoJ2xpJyk7CiAgICBsaS5hcHBlbmQoc3BhbihmaWxlLm5hbWUsIHtmb250V2VpZ2h0OiAnYm9sZCd9KSk7CiAgICBsaS5hcHBlbmQoc3BhbigKICAgICAgICBgKCR7ZmlsZS50eXBlIHx8ICduL2EnfSkgLSAke2ZpbGUuc2l6ZX0gYnl0ZXMsIGAgKwogICAgICAgIGBsYXN0IG1vZGlmaWVkOiAkewogICAgICAgICAgICBmaWxlLmxhc3RNb2RpZmllZERhdGUgPyBmaWxlLmxhc3RNb2RpZmllZERhdGUudG9Mb2NhbGVEYXRlU3RyaW5nKCkgOgogICAgICAgICAgICAgICAgICAgICAgICAgICAgICAgICAgICAnbi9hJ30gLSBgKSk7CiAgICBjb25zdCBwZXJjZW50ID0gc3BhbignMCUgZG9uZScpOwogICAgbGkuYXBwZW5kQ2hpbGQocGVyY2VudCk7CgogICAgb3V0cHV0RWxlbWVudC5hcHBlbmRDaGlsZChsaSk7CgogICAgY29uc3QgZmlsZURhdGFQcm9taXNlID0gbmV3IFByb21pc2UoKHJlc29sdmUpID0+IHsKICAgICAgY29uc3QgcmVhZGVyID0gbmV3IEZpbGVSZWFkZXIoKTsKICAgICAgcmVhZGVyLm9ubG9hZCA9IChlKSA9PiB7CiAgICAgICAgcmVzb2x2ZShlLnRhcmdldC5yZXN1bHQpOwogICAgICB9OwogICAgICByZWFkZXIucmVhZEFzQXJyYXlCdWZmZXIoZmlsZSk7CiAgICB9KTsKICAgIC8vIFdhaXQgZm9yIHRoZSBkYXRhIHRvIGJlIHJlYWR5LgogICAgbGV0IGZpbGVEYXRhID0geWllbGQgewogICAgICBwcm9taXNlOiBmaWxlRGF0YVByb21pc2UsCiAgICAgIHJlc3BvbnNlOiB7CiAgICAgICAgYWN0aW9uOiAnY29udGludWUnLAogICAgICB9CiAgICB9OwoKICAgIC8vIFVzZSBhIGNodW5rZWQgc2VuZGluZyB0byBhdm9pZCBtZXNzYWdlIHNpemUgbGltaXRzLiBTZWUgYi82MjExNTY2MC4KICAgIGxldCBwb3NpdGlvbiA9IDA7CiAgICB3aGlsZSAocG9zaXRpb24gPCBmaWxlRGF0YS5ieXRlTGVuZ3RoKSB7CiAgICAgIGNvbnN0IGxlbmd0aCA9IE1hdGgubWluKGZpbGVEYXRhLmJ5dGVMZW5ndGggLSBwb3NpdGlvbiwgTUFYX1BBWUxPQURfU0laRSk7CiAgICAgIGNvbnN0IGNodW5rID0gbmV3IFVpbnQ4QXJyYXkoZmlsZURhdGEsIHBvc2l0aW9uLCBsZW5ndGgpOwogICAgICBwb3NpdGlvbiArPSBsZW5ndGg7CgogICAgICBjb25zdCBiYXNlNjQgPSBidG9hKFN0cmluZy5mcm9tQ2hhckNvZGUuYXBwbHkobnVsbCwgY2h1bmspKTsKICAgICAgeWllbGQgewogICAgICAgIHJlc3BvbnNlOiB7CiAgICAgICAgICBhY3Rpb246ICdhcHBlbmQnLAogICAgICAgICAgZmlsZTogZmlsZS5uYW1lLAogICAgICAgICAgZGF0YTogYmFzZTY0LAogICAgICAgIH0sCiAgICAgIH07CiAgICAgIHBlcmNlbnQudGV4dENvbnRlbnQgPQogICAgICAgICAgYCR7TWF0aC5yb3VuZCgocG9zaXRpb24gLyBmaWxlRGF0YS5ieXRlTGVuZ3RoKSAqIDEwMCl9JSBkb25lYDsKICAgIH0KICB9CgogIC8vIEFsbCBkb25lLgogIHlpZWxkIHsKICAgIHJlc3BvbnNlOiB7CiAgICAgIGFjdGlvbjogJ2NvbXBsZXRlJywKICAgIH0KICB9Owp9CgpzY29wZS5nb29nbGUgPSBzY29wZS5nb29nbGUgfHwge307CnNjb3BlLmdvb2dsZS5jb2xhYiA9IHNjb3BlLmdvb2dsZS5jb2xhYiB8fCB7fTsKc2NvcGUuZ29vZ2xlLmNvbGFiLl9maWxlcyA9IHsKICBfdXBsb2FkRmlsZXMsCiAgX3VwbG9hZEZpbGVzQ29udGludWUsCn07Cn0pKHNlbGYpOwo=",
              "ok": true,
              "headers": [
                [
                  "content-type",
                  "application/javascript"
                ]
              ],
              "status": 200,
              "status_text": "OK"
            }
          },
          "base_uri": "https://localhost:8080/",
          "height": 77
        },
        "outputId": "7db1b358-a298-4a23-daa0-c1498d0fef4a"
      },
      "source": [
        "#Upload Dataset Weather\n",
        "from google.colab import files\n",
        "uploaded = files.upload()"
      ],
      "execution_count": 6,
      "outputs": [
        {
          "output_type": "display_data",
          "data": {
            "text/html": [
              "\n",
              "     <input type=\"file\" id=\"files-abf2abc8-0265-4970-b0ed-0048df791e33\" name=\"files[]\" multiple disabled />\n",
              "     <output id=\"result-abf2abc8-0265-4970-b0ed-0048df791e33\">\n",
              "      Upload widget is only available when the cell has been executed in the\n",
              "      current browser session. Please rerun this cell to enable.\n",
              "      </output>\n",
              "      <script src=\"/nbextensions/google.colab/files.js\"></script> "
            ],
            "text/plain": [
              "<IPython.core.display.HTML object>"
            ]
          },
          "metadata": {
            "tags": []
          }
        },
        {
          "output_type": "stream",
          "text": [
            "Saving weather-dataset.zip to weather-dataset.zip\n"
          ],
          "name": "stdout"
        }
      ]
    },
    {
      "cell_type": "code",
      "metadata": {
        "id": "bT5c68sboz01",
        "colab_type": "code",
        "colab": {
          "base_uri": "https://localhost:8080/",
          "height": 54
        },
        "outputId": "d6178d4e-3fc2-4263-b9aa-0c7ced1a7e33"
      },
      "source": [
        "!ls -l -a --block-size=K"
      ],
      "execution_count": 7,
      "outputs": [
        {
          "output_type": "stream",
          "text": [
            "total 2288K\n",
            "-rw------- 1 root root 2288K May 20 05:58 weather-dataset.zip\n"
          ],
          "name": "stdout"
        }
      ]
    },
    {
      "cell_type": "code",
      "metadata": {
        "id": "0MmWqfT2qj2D",
        "colab_type": "code",
        "colab": {}
      },
      "source": [
        "!mkdir dataset"
      ],
      "execution_count": 0,
      "outputs": []
    },
    {
      "cell_type": "code",
      "metadata": {
        "id": "P_0mY0tUrAC7",
        "colab_type": "code",
        "colab": {
          "base_uri": "https://localhost:8080/",
          "height": 54
        },
        "outputId": "b72a514b-6cd4-4233-8ea4-75b9f65b6b2e"
      },
      "source": [
        "# Ekstrak file weather-dataset.zip ke folder \"dataset\"\n",
        "!unzip weather-dataset.zip -d dataset"
      ],
      "execution_count": 9,
      "outputs": [
        {
          "output_type": "stream",
          "text": [
            "Archive:  weather-dataset.zip\n",
            "  inflating: dataset/weatherHistory.csv  \n"
          ],
          "name": "stdout"
        }
      ]
    },
    {
      "cell_type": "code",
      "metadata": {
        "id": "ALqbmeNhrQwe",
        "colab_type": "code",
        "colab": {
          "base_uri": "https://localhost:8080/",
          "height": 54
        },
        "outputId": "e2cdf3ca-a1be-4d49-fcb3-77e42a9d2b7a"
      },
      "source": [
        "# Melihat ukuran file hasil ekstrak\n",
        "!ls -l -a --block-size=K ./dataset"
      ],
      "execution_count": 10,
      "outputs": [
        {
          "output_type": "stream",
          "text": [
            "total 15913K\n",
            "-rw------- 1 root root 15913K Sep 25  2019 weatherHistory.csv\n"
          ],
          "name": "stdout"
        }
      ]
    },
    {
      "cell_type": "code",
      "metadata": {
        "id": "oQnXfxeXsCnZ",
        "colab_type": "code",
        "colab": {}
      },
      "source": [
        "import pandas as pd\n",
        "# load data as dataframe (df)\n",
        "df_load_data = pd.read_csv('./dataset/weatherHistory.csv')"
      ],
      "execution_count": 0,
      "outputs": []
    },
    {
      "cell_type": "code",
      "metadata": {
        "id": "pA1MtKnWs_Qg",
        "colab_type": "code",
        "colab": {
          "base_uri": "https://localhost:8080/",
          "height": 276
        },
        "outputId": "8c14bbb2-79cb-48e3-fe26-b91dd7a16893"
      },
      "source": [
        "print(df_load_data)"
      ],
      "execution_count": 15,
      "outputs": [
        {
          "output_type": "stream",
          "text": [
            "                      Formatted Date  ...                           Daily Summary\n",
            "0      2006-04-01 00:00:00.000 +0200  ...       Partly cloudy throughout the day.\n",
            "1      2006-04-01 01:00:00.000 +0200  ...       Partly cloudy throughout the day.\n",
            "2      2006-04-01 02:00:00.000 +0200  ...       Partly cloudy throughout the day.\n",
            "3      2006-04-01 03:00:00.000 +0200  ...       Partly cloudy throughout the day.\n",
            "4      2006-04-01 04:00:00.000 +0200  ...       Partly cloudy throughout the day.\n",
            "...                              ...  ...                                     ...\n",
            "96448  2016-09-09 19:00:00.000 +0200  ...  Partly cloudy starting in the morning.\n",
            "96449  2016-09-09 20:00:00.000 +0200  ...  Partly cloudy starting in the morning.\n",
            "96450  2016-09-09 21:00:00.000 +0200  ...  Partly cloudy starting in the morning.\n",
            "96451  2016-09-09 22:00:00.000 +0200  ...  Partly cloudy starting in the morning.\n",
            "96452  2016-09-09 23:00:00.000 +0200  ...  Partly cloudy starting in the morning.\n",
            "\n",
            "[96453 rows x 12 columns]\n"
          ],
          "name": "stdout"
        }
      ]
    },
    {
      "cell_type": "code",
      "metadata": {
        "id": "SvA9ZZKStFSK",
        "colab_type": "code",
        "colab": {
          "base_uri": "https://localhost:8080/",
          "height": 55
        },
        "outputId": "dc6fdeb0-4223-41e6-eefc-a261285fe66c"
      },
      "source": [
        "# menampilkan nama kolom pada df\n",
        "print(df_load_data.columns.values.tolist())"
      ],
      "execution_count": 5,
      "outputs": [
        {
          "output_type": "stream",
          "text": [
            "['Formatted Date', 'Summary', 'Precip Type', 'Temperature (C)', 'Apparent Temperature (C)', 'Humidity', 'Wind Speed (km/h)', 'Wind Bearing (degrees)', 'Visibility (km)', 'Loud Cover', 'Pressure (millibars)', 'Daily Summary']\n"
          ],
          "name": "stdout"
        }
      ]
    },
    {
      "cell_type": "code",
      "metadata": {
        "id": "78GLZMcTuMi-",
        "colab_type": "code",
        "colab": {
          "base_uri": "https://localhost:8080/",
          "height": 318
        },
        "outputId": "2c9d593f-2655-4519-a3bc-9c7f1d46131a"
      },
      "source": [
        "# Get Data pada kolom \"Formatted Date\" dan misal dengan \"Temperature (C)\"\n",
        "df_load_data.describe() "
      ],
      "execution_count": 18,
      "outputs": [
        {
          "output_type": "execute_result",
          "data": {
            "text/html": [
              "<div>\n",
              "<style scoped>\n",
              "    .dataframe tbody tr th:only-of-type {\n",
              "        vertical-align: middle;\n",
              "    }\n",
              "\n",
              "    .dataframe tbody tr th {\n",
              "        vertical-align: top;\n",
              "    }\n",
              "\n",
              "    .dataframe thead th {\n",
              "        text-align: right;\n",
              "    }\n",
              "</style>\n",
              "<table border=\"1\" class=\"dataframe\">\n",
              "  <thead>\n",
              "    <tr style=\"text-align: right;\">\n",
              "      <th></th>\n",
              "      <th>Temperature (C)</th>\n",
              "      <th>Apparent Temperature (C)</th>\n",
              "      <th>Humidity</th>\n",
              "      <th>Wind Speed (km/h)</th>\n",
              "      <th>Wind Bearing (degrees)</th>\n",
              "      <th>Visibility (km)</th>\n",
              "      <th>Loud Cover</th>\n",
              "      <th>Pressure (millibars)</th>\n",
              "    </tr>\n",
              "  </thead>\n",
              "  <tbody>\n",
              "    <tr>\n",
              "      <th>count</th>\n",
              "      <td>96453.000000</td>\n",
              "      <td>96453.000000</td>\n",
              "      <td>96453.000000</td>\n",
              "      <td>96453.000000</td>\n",
              "      <td>96453.000000</td>\n",
              "      <td>96453.000000</td>\n",
              "      <td>96453.0</td>\n",
              "      <td>96453.000000</td>\n",
              "    </tr>\n",
              "    <tr>\n",
              "      <th>mean</th>\n",
              "      <td>11.932678</td>\n",
              "      <td>10.855029</td>\n",
              "      <td>0.734899</td>\n",
              "      <td>10.810640</td>\n",
              "      <td>187.509232</td>\n",
              "      <td>10.347325</td>\n",
              "      <td>0.0</td>\n",
              "      <td>1003.235956</td>\n",
              "    </tr>\n",
              "    <tr>\n",
              "      <th>std</th>\n",
              "      <td>9.551546</td>\n",
              "      <td>10.696847</td>\n",
              "      <td>0.195473</td>\n",
              "      <td>6.913571</td>\n",
              "      <td>107.383428</td>\n",
              "      <td>4.192123</td>\n",
              "      <td>0.0</td>\n",
              "      <td>116.969906</td>\n",
              "    </tr>\n",
              "    <tr>\n",
              "      <th>min</th>\n",
              "      <td>-21.822222</td>\n",
              "      <td>-27.716667</td>\n",
              "      <td>0.000000</td>\n",
              "      <td>0.000000</td>\n",
              "      <td>0.000000</td>\n",
              "      <td>0.000000</td>\n",
              "      <td>0.0</td>\n",
              "      <td>0.000000</td>\n",
              "    </tr>\n",
              "    <tr>\n",
              "      <th>25%</th>\n",
              "      <td>4.688889</td>\n",
              "      <td>2.311111</td>\n",
              "      <td>0.600000</td>\n",
              "      <td>5.828200</td>\n",
              "      <td>116.000000</td>\n",
              "      <td>8.339800</td>\n",
              "      <td>0.0</td>\n",
              "      <td>1011.900000</td>\n",
              "    </tr>\n",
              "    <tr>\n",
              "      <th>50%</th>\n",
              "      <td>12.000000</td>\n",
              "      <td>12.000000</td>\n",
              "      <td>0.780000</td>\n",
              "      <td>9.965900</td>\n",
              "      <td>180.000000</td>\n",
              "      <td>10.046400</td>\n",
              "      <td>0.0</td>\n",
              "      <td>1016.450000</td>\n",
              "    </tr>\n",
              "    <tr>\n",
              "      <th>75%</th>\n",
              "      <td>18.838889</td>\n",
              "      <td>18.838889</td>\n",
              "      <td>0.890000</td>\n",
              "      <td>14.135800</td>\n",
              "      <td>290.000000</td>\n",
              "      <td>14.812000</td>\n",
              "      <td>0.0</td>\n",
              "      <td>1021.090000</td>\n",
              "    </tr>\n",
              "    <tr>\n",
              "      <th>max</th>\n",
              "      <td>39.905556</td>\n",
              "      <td>39.344444</td>\n",
              "      <td>1.000000</td>\n",
              "      <td>63.852600</td>\n",
              "      <td>359.000000</td>\n",
              "      <td>16.100000</td>\n",
              "      <td>0.0</td>\n",
              "      <td>1046.380000</td>\n",
              "    </tr>\n",
              "  </tbody>\n",
              "</table>\n",
              "</div>"
            ],
            "text/plain": [
              "       Temperature (C)  ...  Pressure (millibars)\n",
              "count     96453.000000  ...          96453.000000\n",
              "mean         11.932678  ...           1003.235956\n",
              "std           9.551546  ...            116.969906\n",
              "min         -21.822222  ...              0.000000\n",
              "25%           4.688889  ...           1011.900000\n",
              "50%          12.000000  ...           1016.450000\n",
              "75%          18.838889  ...           1021.090000\n",
              "max          39.905556  ...           1046.380000\n",
              "\n",
              "[8 rows x 8 columns]"
            ]
          },
          "metadata": {
            "tags": []
          },
          "execution_count": 18
        }
      ]
    },
    {
      "cell_type": "code",
      "metadata": {
        "id": "hKi6FtQawrmA",
        "colab_type": "code",
        "colab": {
          "base_uri": "https://localhost:8080/",
          "height": 35
        },
        "outputId": "9cffeaf7-d273-4b27-ea06-f7f74a87e610"
      },
      "source": [
        "df_load_data[\"Temperature (C)\"].mean()"
      ],
      "execution_count": 19,
      "outputs": [
        {
          "output_type": "execute_result",
          "data": {
            "text/plain": [
              "11.932678437511868"
            ]
          },
          "metadata": {
            "tags": []
          },
          "execution_count": 19
        }
      ]
    },
    {
      "cell_type": "code",
      "metadata": {
        "id": "FifyXhiJyuXI",
        "colab_type": "code",
        "colab": {
          "base_uri": "https://localhost:8080/",
          "height": 206
        },
        "outputId": "a213d996-a2e6-47eb-e67f-0d1b0ba42c98"
      },
      "source": [
        "# Get Data pada kolom \"Formatted Date\" dan misal dengan \"Temperature (C)\"\n",
        "df_load_data[[\"Formatted Date\",\"Temperature (C)\"]].head()"
      ],
      "execution_count": 256,
      "outputs": [
        {
          "output_type": "execute_result",
          "data": {
            "text/html": [
              "<div>\n",
              "<style scoped>\n",
              "    .dataframe tbody tr th:only-of-type {\n",
              "        vertical-align: middle;\n",
              "    }\n",
              "\n",
              "    .dataframe tbody tr th {\n",
              "        vertical-align: top;\n",
              "    }\n",
              "\n",
              "    .dataframe thead th {\n",
              "        text-align: right;\n",
              "    }\n",
              "</style>\n",
              "<table border=\"1\" class=\"dataframe\">\n",
              "  <thead>\n",
              "    <tr style=\"text-align: right;\">\n",
              "      <th></th>\n",
              "      <th>Formatted Date</th>\n",
              "      <th>Temperature (C)</th>\n",
              "    </tr>\n",
              "  </thead>\n",
              "  <tbody>\n",
              "    <tr>\n",
              "      <th>0</th>\n",
              "      <td>2006-04-01 00:00:00.000 +0200</td>\n",
              "      <td>9.472222</td>\n",
              "    </tr>\n",
              "    <tr>\n",
              "      <th>1</th>\n",
              "      <td>2006-04-01 01:00:00.000 +0200</td>\n",
              "      <td>9.355556</td>\n",
              "    </tr>\n",
              "    <tr>\n",
              "      <th>2</th>\n",
              "      <td>2006-04-01 02:00:00.000 +0200</td>\n",
              "      <td>9.377778</td>\n",
              "    </tr>\n",
              "    <tr>\n",
              "      <th>3</th>\n",
              "      <td>2006-04-01 03:00:00.000 +0200</td>\n",
              "      <td>8.288889</td>\n",
              "    </tr>\n",
              "    <tr>\n",
              "      <th>4</th>\n",
              "      <td>2006-04-01 04:00:00.000 +0200</td>\n",
              "      <td>8.755556</td>\n",
              "    </tr>\n",
              "  </tbody>\n",
              "</table>\n",
              "</div>"
            ],
            "text/plain": [
              "                  Formatted Date  Temperature (C)\n",
              "0  2006-04-01 00:00:00.000 +0200         9.472222\n",
              "1  2006-04-01 01:00:00.000 +0200         9.355556\n",
              "2  2006-04-01 02:00:00.000 +0200         9.377778\n",
              "3  2006-04-01 03:00:00.000 +0200         8.288889\n",
              "4  2006-04-01 04:00:00.000 +0200         8.755556"
            ]
          },
          "metadata": {
            "tags": []
          },
          "execution_count": 256
        }
      ]
    },
    {
      "cell_type": "code",
      "metadata": {
        "id": "CajhRS2SHJrD",
        "colab_type": "code",
        "colab": {
          "base_uri": "https://localhost:8080/",
          "height": 257
        },
        "outputId": "4c821eb0-24e8-47c7-a609-5244cf578478"
      },
      "source": [
        "df_load_data.dtypes"
      ],
      "execution_count": 258,
      "outputs": [
        {
          "output_type": "execute_result",
          "data": {
            "text/plain": [
              "Formatted Date               object\n",
              "Summary                      object\n",
              "Precip Type                  object\n",
              "Temperature (C)             float64\n",
              "Apparent Temperature (C)    float64\n",
              "Humidity                    float64\n",
              "Wind Speed (km/h)           float64\n",
              "Wind Bearing (degrees)      float64\n",
              "Visibility (km)             float64\n",
              "Loud Cover                  float64\n",
              "Pressure (millibars)        float64\n",
              "Daily Summary                object\n",
              "dtype: object"
            ]
          },
          "metadata": {
            "tags": []
          },
          "execution_count": 258
        }
      ]
    },
    {
      "cell_type": "code",
      "metadata": {
        "id": "xsF04d6kXxA9",
        "colab_type": "code",
        "colab": {
          "base_uri": "https://localhost:8080/",
          "height": 128
        },
        "outputId": "de22c646-6ae1-4448-9dd1-086980fcbed5"
      },
      "source": [
        "df_load_data['Formatted Date'].str[:10].head()"
      ],
      "execution_count": 264,
      "outputs": [
        {
          "output_type": "execute_result",
          "data": {
            "text/plain": [
              "0    2006-04-01\n",
              "1    2006-04-01\n",
              "2    2006-04-01\n",
              "3    2006-04-01\n",
              "4    2006-04-01\n",
              "Name: Formatted Date, dtype: object"
            ]
          },
          "metadata": {
            "tags": []
          },
          "execution_count": 264
        }
      ]
    },
    {
      "cell_type": "code",
      "metadata": {
        "id": "knGB6ZKuYhO3",
        "colab_type": "code",
        "colab": {
          "base_uri": "https://localhost:8080/",
          "height": 490
        },
        "outputId": "8e149ac7-b07b-4965-e67c-15950345a55f"
      },
      "source": [
        "df_load_data.groupby(df_load_data[\"Formatted Date\"].str[:10]).mean()"
      ],
      "execution_count": 110,
      "outputs": [
        {
          "output_type": "execute_result",
          "data": {
            "text/html": [
              "<div>\n",
              "<style scoped>\n",
              "    .dataframe tbody tr th:only-of-type {\n",
              "        vertical-align: middle;\n",
              "    }\n",
              "\n",
              "    .dataframe tbody tr th {\n",
              "        vertical-align: top;\n",
              "    }\n",
              "\n",
              "    .dataframe thead th {\n",
              "        text-align: right;\n",
              "    }\n",
              "</style>\n",
              "<table border=\"1\" class=\"dataframe\">\n",
              "  <thead>\n",
              "    <tr style=\"text-align: right;\">\n",
              "      <th></th>\n",
              "      <th>Temperature (C)</th>\n",
              "      <th>Apparent Temperature (C)</th>\n",
              "      <th>Humidity</th>\n",
              "      <th>Wind Speed (km/h)</th>\n",
              "      <th>Wind Bearing (degrees)</th>\n",
              "      <th>Visibility (km)</th>\n",
              "      <th>Loud Cover</th>\n",
              "      <th>Pressure (millibars)</th>\n",
              "    </tr>\n",
              "    <tr>\n",
              "      <th>Formatted Date</th>\n",
              "      <th></th>\n",
              "      <th></th>\n",
              "      <th></th>\n",
              "      <th></th>\n",
              "      <th></th>\n",
              "      <th></th>\n",
              "      <th></th>\n",
              "      <th></th>\n",
              "    </tr>\n",
              "  </thead>\n",
              "  <tbody>\n",
              "    <tr>\n",
              "      <th>2006-01-01</th>\n",
              "      <td>3.873148</td>\n",
              "      <td>-0.447222</td>\n",
              "      <td>0.818333</td>\n",
              "      <td>21.372750</td>\n",
              "      <td>142.041667</td>\n",
              "      <td>11.112354</td>\n",
              "      <td>0.0</td>\n",
              "      <td>1012.279167</td>\n",
              "    </tr>\n",
              "    <tr>\n",
              "      <th>2006-01-02</th>\n",
              "      <td>5.418519</td>\n",
              "      <td>2.042593</td>\n",
              "      <td>0.844583</td>\n",
              "      <td>17.551683</td>\n",
              "      <td>161.958333</td>\n",
              "      <td>8.956967</td>\n",
              "      <td>0.0</td>\n",
              "      <td>1010.131667</td>\n",
              "    </tr>\n",
              "    <tr>\n",
              "      <th>2006-01-03</th>\n",
              "      <td>2.319444</td>\n",
              "      <td>0.223843</td>\n",
              "      <td>0.898333</td>\n",
              "      <td>8.417617</td>\n",
              "      <td>248.541667</td>\n",
              "      <td>9.011975</td>\n",
              "      <td>0.0</td>\n",
              "      <td>1020.805000</td>\n",
              "    </tr>\n",
              "    <tr>\n",
              "      <th>2006-01-04</th>\n",
              "      <td>2.274074</td>\n",
              "      <td>-0.457407</td>\n",
              "      <td>0.905417</td>\n",
              "      <td>11.579925</td>\n",
              "      <td>46.916667</td>\n",
              "      <td>8.339129</td>\n",
              "      <td>0.0</td>\n",
              "      <td>981.826667</td>\n",
              "    </tr>\n",
              "    <tr>\n",
              "      <th>2006-01-05</th>\n",
              "      <td>2.698148</td>\n",
              "      <td>0.256481</td>\n",
              "      <td>0.948333</td>\n",
              "      <td>9.515100</td>\n",
              "      <td>140.375000</td>\n",
              "      <td>4.628750</td>\n",
              "      <td>0.0</td>\n",
              "      <td>935.988333</td>\n",
              "    </tr>\n",
              "    <tr>\n",
              "      <th>...</th>\n",
              "      <td>...</td>\n",
              "      <td>...</td>\n",
              "      <td>...</td>\n",
              "      <td>...</td>\n",
              "      <td>...</td>\n",
              "      <td>...</td>\n",
              "      <td>...</td>\n",
              "      <td>...</td>\n",
              "    </tr>\n",
              "    <tr>\n",
              "      <th>2016-12-27</th>\n",
              "      <td>0.280324</td>\n",
              "      <td>-3.158102</td>\n",
              "      <td>0.890000</td>\n",
              "      <td>10.980200</td>\n",
              "      <td>185.875000</td>\n",
              "      <td>7.303362</td>\n",
              "      <td>0.0</td>\n",
              "      <td>1020.304583</td>\n",
              "    </tr>\n",
              "    <tr>\n",
              "      <th>2016-12-28</th>\n",
              "      <td>0.224306</td>\n",
              "      <td>-3.223611</td>\n",
              "      <td>0.890000</td>\n",
              "      <td>10.969467</td>\n",
              "      <td>186.166667</td>\n",
              "      <td>7.304704</td>\n",
              "      <td>0.0</td>\n",
              "      <td>1020.334583</td>\n",
              "    </tr>\n",
              "    <tr>\n",
              "      <th>2016-12-29</th>\n",
              "      <td>0.169676</td>\n",
              "      <td>-3.268056</td>\n",
              "      <td>0.889583</td>\n",
              "      <td>10.892992</td>\n",
              "      <td>186.041667</td>\n",
              "      <td>7.309400</td>\n",
              "      <td>0.0</td>\n",
              "      <td>1020.365833</td>\n",
              "    </tr>\n",
              "    <tr>\n",
              "      <th>2016-12-30</th>\n",
              "      <td>0.119444</td>\n",
              "      <td>-3.306019</td>\n",
              "      <td>0.889167</td>\n",
              "      <td>10.806454</td>\n",
              "      <td>186.041667</td>\n",
              "      <td>7.316779</td>\n",
              "      <td>0.0</td>\n",
              "      <td>1020.395000</td>\n",
              "    </tr>\n",
              "    <tr>\n",
              "      <th>2016-12-31</th>\n",
              "      <td>0.072454</td>\n",
              "      <td>-3.352546</td>\n",
              "      <td>0.888750</td>\n",
              "      <td>10.764862</td>\n",
              "      <td>186.250000</td>\n",
              "      <td>7.320804</td>\n",
              "      <td>0.0</td>\n",
              "      <td>1020.423750</td>\n",
              "    </tr>\n",
              "  </tbody>\n",
              "</table>\n",
              "<p>4018 rows × 8 columns</p>\n",
              "</div>"
            ],
            "text/plain": [
              "                Temperature (C)  ...  Pressure (millibars)\n",
              "Formatted Date                   ...                      \n",
              "2006-01-01             3.873148  ...           1012.279167\n",
              "2006-01-02             5.418519  ...           1010.131667\n",
              "2006-01-03             2.319444  ...           1020.805000\n",
              "2006-01-04             2.274074  ...            981.826667\n",
              "2006-01-05             2.698148  ...            935.988333\n",
              "...                         ...  ...                   ...\n",
              "2016-12-27             0.280324  ...           1020.304583\n",
              "2016-12-28             0.224306  ...           1020.334583\n",
              "2016-12-29             0.169676  ...           1020.365833\n",
              "2016-12-30             0.119444  ...           1020.395000\n",
              "2016-12-31             0.072454  ...           1020.423750\n",
              "\n",
              "[4018 rows x 8 columns]"
            ]
          },
          "metadata": {
            "tags": []
          },
          "execution_count": 110
        }
      ]
    },
    {
      "cell_type": "code",
      "metadata": {
        "id": "F6MyuUACZtrR",
        "colab_type": "code",
        "colab": {}
      },
      "source": [
        "df_load_data[[\"Temperature (C)\",\"Apparent Temperature (C)\"]].groupby(df_load_data[\"Formatted Date\"].str[:10]).mean()"
      ],
      "execution_count": 0,
      "outputs": []
    },
    {
      "cell_type": "code",
      "metadata": {
        "id": "nyHh0Z9barEU",
        "colab_type": "code",
        "colab": {
          "base_uri": "https://localhost:8080/",
          "height": 424
        },
        "outputId": "81b55665-8c20-4369-9ff2-c056659db3f8"
      },
      "source": [
        "#Get rata-rata per tanggal antara [2006;2016], :10 tahun/bln/tgl\n",
        "df_load_data[\"Temperature (C)\"].groupby(df_load_data[\"Formatted Date\"].str[:10]).mean().reset_index(name='AVG')"
      ],
      "execution_count": 282,
      "outputs": [
        {
          "output_type": "execute_result",
          "data": {
            "text/html": [
              "<div>\n",
              "<style scoped>\n",
              "    .dataframe tbody tr th:only-of-type {\n",
              "        vertical-align: middle;\n",
              "    }\n",
              "\n",
              "    .dataframe tbody tr th {\n",
              "        vertical-align: top;\n",
              "    }\n",
              "\n",
              "    .dataframe thead th {\n",
              "        text-align: right;\n",
              "    }\n",
              "</style>\n",
              "<table border=\"1\" class=\"dataframe\">\n",
              "  <thead>\n",
              "    <tr style=\"text-align: right;\">\n",
              "      <th></th>\n",
              "      <th>Formatted Date</th>\n",
              "      <th>AVG</th>\n",
              "    </tr>\n",
              "  </thead>\n",
              "  <tbody>\n",
              "    <tr>\n",
              "      <th>0</th>\n",
              "      <td>2006-01-01</td>\n",
              "      <td>3.873148</td>\n",
              "    </tr>\n",
              "    <tr>\n",
              "      <th>1</th>\n",
              "      <td>2006-01-02</td>\n",
              "      <td>5.418519</td>\n",
              "    </tr>\n",
              "    <tr>\n",
              "      <th>2</th>\n",
              "      <td>2006-01-03</td>\n",
              "      <td>2.319444</td>\n",
              "    </tr>\n",
              "    <tr>\n",
              "      <th>3</th>\n",
              "      <td>2006-01-04</td>\n",
              "      <td>2.274074</td>\n",
              "    </tr>\n",
              "    <tr>\n",
              "      <th>4</th>\n",
              "      <td>2006-01-05</td>\n",
              "      <td>2.698148</td>\n",
              "    </tr>\n",
              "    <tr>\n",
              "      <th>...</th>\n",
              "      <td>...</td>\n",
              "      <td>...</td>\n",
              "    </tr>\n",
              "    <tr>\n",
              "      <th>4013</th>\n",
              "      <td>2016-12-27</td>\n",
              "      <td>0.280324</td>\n",
              "    </tr>\n",
              "    <tr>\n",
              "      <th>4014</th>\n",
              "      <td>2016-12-28</td>\n",
              "      <td>0.224306</td>\n",
              "    </tr>\n",
              "    <tr>\n",
              "      <th>4015</th>\n",
              "      <td>2016-12-29</td>\n",
              "      <td>0.169676</td>\n",
              "    </tr>\n",
              "    <tr>\n",
              "      <th>4016</th>\n",
              "      <td>2016-12-30</td>\n",
              "      <td>0.119444</td>\n",
              "    </tr>\n",
              "    <tr>\n",
              "      <th>4017</th>\n",
              "      <td>2016-12-31</td>\n",
              "      <td>0.072454</td>\n",
              "    </tr>\n",
              "  </tbody>\n",
              "</table>\n",
              "<p>4018 rows × 2 columns</p>\n",
              "</div>"
            ],
            "text/plain": [
              "     Formatted Date       AVG\n",
              "0        2006-01-01  3.873148\n",
              "1        2006-01-02  5.418519\n",
              "2        2006-01-03  2.319444\n",
              "3        2006-01-04  2.274074\n",
              "4        2006-01-05  2.698148\n",
              "...             ...       ...\n",
              "4013     2016-12-27  0.280324\n",
              "4014     2016-12-28  0.224306\n",
              "4015     2016-12-29  0.169676\n",
              "4016     2016-12-30  0.119444\n",
              "4017     2016-12-31  0.072454\n",
              "\n",
              "[4018 rows x 2 columns]"
            ]
          },
          "metadata": {
            "tags": []
          },
          "execution_count": 282
        }
      ]
    },
    {
      "cell_type": "code",
      "metadata": {
        "id": "CHJt56bo8OjX",
        "colab_type": "code",
        "colab": {}
      },
      "source": [
        "# salin hasil penghitungan Mean ke df2\n",
        "df2 = df_load_data[\"Temperature (C)\"].groupby(df_load_data[\"Formatted Date\"].str[:10]).mean().reset_index(name='AVG').copy()"
      ],
      "execution_count": 0,
      "outputs": []
    },
    {
      "cell_type": "code",
      "metadata": {
        "id": "BWl_rNUn8PIv",
        "colab_type": "code",
        "colab": {}
      },
      "source": [
        "# hitung hasil absolute selisih dari nilai Mean (AVG) dikurangi 25\n",
        "# cara 1 --> ini agak lama timenya\n",
        "cons_t = 25\n",
        "#def col_subtract(row):\n",
        "#    row['A'] = row['A'] - cons_t\n",
        "#    return row\n",
        "\n",
        "#apply the function to the dataframe\n",
        "#df2 = df2.apply(col_subtract, axis=1)\n",
        "\n",
        "# cara 2 --> ini diklaim lebih cepat\n",
        "depth=df2['AVG']-cons_t\n",
        "df2.insert(2,'Selisih',depth.abs())"
      ],
      "execution_count": 0,
      "outputs": []
    },
    {
      "cell_type": "code",
      "metadata": {
        "id": "5fwtYPBCB2Bb",
        "colab_type": "code",
        "colab": {}
      },
      "source": [
        "# where 1 is the axis number (0 for rows and 1 for columns.)\n",
        "# df2 = df2.drop('Tahun', 1)"
      ],
      "execution_count": 0,
      "outputs": []
    },
    {
      "cell_type": "code",
      "metadata": {
        "id": "x_hGBptP_cCj",
        "colab_type": "code",
        "colab": {}
      },
      "source": [
        "df2\n",
        "# Convert Formatted Date ke datetime\n",
        "df2['Formatted Date'] =  pd.to_datetime(df2['Formatted Date'])"
      ],
      "execution_count": 0,
      "outputs": []
    },
    {
      "cell_type": "code",
      "metadata": {
        "id": "Mgt8R4X_ZHeI",
        "colab_type": "code",
        "colab": {
          "base_uri": "https://localhost:8080/",
          "height": 239
        },
        "outputId": "6f9568ed-22ad-4cdb-e703-076471bcdca1"
      },
      "source": [
        "df2[\"Formatted Date\"].dt.year"
      ],
      "execution_count": 251,
      "outputs": [
        {
          "output_type": "execute_result",
          "data": {
            "text/plain": [
              "0       2006\n",
              "1       2006\n",
              "2       2006\n",
              "3       2006\n",
              "4       2006\n",
              "        ... \n",
              "4013    2016\n",
              "4014    2016\n",
              "4015    2016\n",
              "4016    2016\n",
              "4017    2016\n",
              "Name: Formatted Date, Length: 4018, dtype: int64"
            ]
          },
          "metadata": {
            "tags": []
          },
          "execution_count": 251
        }
      ]
    },
    {
      "cell_type": "code",
      "metadata": {
        "id": "EGY8VFfcLkzG",
        "colab_type": "code",
        "colab": {}
      },
      "source": [
        "#df2.insert(0,'Tahun',df2[\"Formatted Date\"].str[:4])"
      ],
      "execution_count": 0,
      "outputs": []
    },
    {
      "cell_type": "code",
      "metadata": {
        "id": "jq67P4wfgaI6",
        "colab_type": "code",
        "colab": {}
      },
      "source": [
        "# Get date yang memiliki nilai minimal \"Selisih\" tiap tahun, diambil berapa terdekat (const_n_first)\n",
        "const_n_first = 10\n",
        "df3 = df2.sort_values(\"Selisih\").groupby(df2[\"Formatted Date\"].dt.year, as_index=False).head(const_n_first).sort_values(\"Formatted Date\").reset_index(drop=True, inplace=False).copy()"
      ],
      "execution_count": 0,
      "outputs": []
    },
    {
      "cell_type": "code",
      "metadata": {
        "id": "ky2Zq_UctFFT",
        "colab_type": "code",
        "colab": {
          "base_uri": "https://localhost:8080/",
          "height": 1000
        },
        "outputId": "a68491a3-421c-4154-eb17-592039b8903c"
      },
      "source": [
        "df3"
      ],
      "execution_count": 315,
      "outputs": [
        {
          "output_type": "execute_result",
          "data": {
            "text/html": [
              "<div>\n",
              "<style scoped>\n",
              "    .dataframe tbody tr th:only-of-type {\n",
              "        vertical-align: middle;\n",
              "    }\n",
              "\n",
              "    .dataframe tbody tr th {\n",
              "        vertical-align: top;\n",
              "    }\n",
              "\n",
              "    .dataframe thead th {\n",
              "        text-align: right;\n",
              "    }\n",
              "</style>\n",
              "<table border=\"1\" class=\"dataframe\">\n",
              "  <thead>\n",
              "    <tr style=\"text-align: right;\">\n",
              "      <th></th>\n",
              "      <th>Formatted Date</th>\n",
              "      <th>AVG</th>\n",
              "      <th>Selisih</th>\n",
              "    </tr>\n",
              "  </thead>\n",
              "  <tbody>\n",
              "    <tr>\n",
              "      <th>0</th>\n",
              "      <td>2006-06-20</td>\n",
              "      <td>24.962037</td>\n",
              "      <td>0.037963</td>\n",
              "    </tr>\n",
              "    <tr>\n",
              "      <th>1</th>\n",
              "      <td>2006-06-25</td>\n",
              "      <td>25.066435</td>\n",
              "      <td>0.066435</td>\n",
              "    </tr>\n",
              "    <tr>\n",
              "      <th>2</th>\n",
              "      <td>2006-07-31</td>\n",
              "      <td>25.146991</td>\n",
              "      <td>0.146991</td>\n",
              "    </tr>\n",
              "    <tr>\n",
              "      <th>3</th>\n",
              "      <td>2006-08-18</td>\n",
              "      <td>24.950926</td>\n",
              "      <td>0.049074</td>\n",
              "    </tr>\n",
              "    <tr>\n",
              "      <th>4</th>\n",
              "      <td>2006-08-19</td>\n",
              "      <td>25.125926</td>\n",
              "      <td>0.125926</td>\n",
              "    </tr>\n",
              "    <tr>\n",
              "      <th>5</th>\n",
              "      <td>2007-06-15</td>\n",
              "      <td>25.186806</td>\n",
              "      <td>0.186806</td>\n",
              "    </tr>\n",
              "    <tr>\n",
              "      <th>6</th>\n",
              "      <td>2007-07-02</td>\n",
              "      <td>24.899074</td>\n",
              "      <td>0.100926</td>\n",
              "    </tr>\n",
              "    <tr>\n",
              "      <th>7</th>\n",
              "      <td>2007-08-09</td>\n",
              "      <td>25.069444</td>\n",
              "      <td>0.069444</td>\n",
              "    </tr>\n",
              "    <tr>\n",
              "      <th>8</th>\n",
              "      <td>2007-08-20</td>\n",
              "      <td>25.033102</td>\n",
              "      <td>0.033102</td>\n",
              "    </tr>\n",
              "    <tr>\n",
              "      <th>9</th>\n",
              "      <td>2007-08-26</td>\n",
              "      <td>25.201620</td>\n",
              "      <td>0.201620</td>\n",
              "    </tr>\n",
              "    <tr>\n",
              "      <th>10</th>\n",
              "      <td>2008-05-28</td>\n",
              "      <td>24.871528</td>\n",
              "      <td>0.128472</td>\n",
              "    </tr>\n",
              "    <tr>\n",
              "      <th>11</th>\n",
              "      <td>2008-06-22</td>\n",
              "      <td>25.436806</td>\n",
              "      <td>0.436806</td>\n",
              "    </tr>\n",
              "    <tr>\n",
              "      <th>12</th>\n",
              "      <td>2008-07-31</td>\n",
              "      <td>24.843056</td>\n",
              "      <td>0.156944</td>\n",
              "    </tr>\n",
              "    <tr>\n",
              "      <th>13</th>\n",
              "      <td>2008-08-03</td>\n",
              "      <td>25.003472</td>\n",
              "      <td>0.003472</td>\n",
              "    </tr>\n",
              "    <tr>\n",
              "      <th>14</th>\n",
              "      <td>2008-09-05</td>\n",
              "      <td>24.927083</td>\n",
              "      <td>0.072917</td>\n",
              "    </tr>\n",
              "    <tr>\n",
              "      <th>15</th>\n",
              "      <td>2009-06-16</td>\n",
              "      <td>24.734259</td>\n",
              "      <td>0.265741</td>\n",
              "    </tr>\n",
              "    <tr>\n",
              "      <th>16</th>\n",
              "      <td>2009-07-14</td>\n",
              "      <td>24.928241</td>\n",
              "      <td>0.071759</td>\n",
              "    </tr>\n",
              "    <tr>\n",
              "      <th>17</th>\n",
              "      <td>2009-07-18</td>\n",
              "      <td>24.752546</td>\n",
              "      <td>0.247454</td>\n",
              "    </tr>\n",
              "    <tr>\n",
              "      <th>18</th>\n",
              "      <td>2009-08-22</td>\n",
              "      <td>25.072917</td>\n",
              "      <td>0.072917</td>\n",
              "    </tr>\n",
              "    <tr>\n",
              "      <th>19</th>\n",
              "      <td>2009-08-26</td>\n",
              "      <td>25.293056</td>\n",
              "      <td>0.293056</td>\n",
              "    </tr>\n",
              "    <tr>\n",
              "      <th>20</th>\n",
              "      <td>2010-06-09</td>\n",
              "      <td>24.710880</td>\n",
              "      <td>0.289120</td>\n",
              "    </tr>\n",
              "    <tr>\n",
              "      <th>21</th>\n",
              "      <td>2010-06-14</td>\n",
              "      <td>25.034954</td>\n",
              "      <td>0.034954</td>\n",
              "    </tr>\n",
              "    <tr>\n",
              "      <th>22</th>\n",
              "      <td>2010-07-20</td>\n",
              "      <td>24.790509</td>\n",
              "      <td>0.209491</td>\n",
              "    </tr>\n",
              "    <tr>\n",
              "      <th>23</th>\n",
              "      <td>2010-08-03</td>\n",
              "      <td>25.071759</td>\n",
              "      <td>0.071759</td>\n",
              "    </tr>\n",
              "    <tr>\n",
              "      <th>24</th>\n",
              "      <td>2010-08-27</td>\n",
              "      <td>24.807407</td>\n",
              "      <td>0.192593</td>\n",
              "    </tr>\n",
              "    <tr>\n",
              "      <th>25</th>\n",
              "      <td>2011-06-18</td>\n",
              "      <td>24.870602</td>\n",
              "      <td>0.129398</td>\n",
              "    </tr>\n",
              "    <tr>\n",
              "      <th>26</th>\n",
              "      <td>2011-06-22</td>\n",
              "      <td>24.728472</td>\n",
              "      <td>0.271528</td>\n",
              "    </tr>\n",
              "    <tr>\n",
              "      <th>27</th>\n",
              "      <td>2011-06-23</td>\n",
              "      <td>25.240046</td>\n",
              "      <td>0.240046</td>\n",
              "    </tr>\n",
              "    <tr>\n",
              "      <th>28</th>\n",
              "      <td>2011-07-12</td>\n",
              "      <td>24.997685</td>\n",
              "      <td>0.002315</td>\n",
              "    </tr>\n",
              "    <tr>\n",
              "      <th>29</th>\n",
              "      <td>2011-08-19</td>\n",
              "      <td>24.984491</td>\n",
              "      <td>0.015509</td>\n",
              "    </tr>\n",
              "    <tr>\n",
              "      <th>30</th>\n",
              "      <td>2012-06-22</td>\n",
              "      <td>25.082176</td>\n",
              "      <td>0.082176</td>\n",
              "    </tr>\n",
              "    <tr>\n",
              "      <th>31</th>\n",
              "      <td>2012-07-20</td>\n",
              "      <td>24.998843</td>\n",
              "      <td>0.001157</td>\n",
              "    </tr>\n",
              "    <tr>\n",
              "      <th>32</th>\n",
              "      <td>2012-07-29</td>\n",
              "      <td>24.929861</td>\n",
              "      <td>0.070139</td>\n",
              "    </tr>\n",
              "    <tr>\n",
              "      <th>33</th>\n",
              "      <td>2012-08-01</td>\n",
              "      <td>24.819907</td>\n",
              "      <td>0.180093</td>\n",
              "    </tr>\n",
              "    <tr>\n",
              "      <th>34</th>\n",
              "      <td>2012-08-26</td>\n",
              "      <td>25.008565</td>\n",
              "      <td>0.008565</td>\n",
              "    </tr>\n",
              "    <tr>\n",
              "      <th>35</th>\n",
              "      <td>2013-06-16</td>\n",
              "      <td>24.536343</td>\n",
              "      <td>0.463657</td>\n",
              "    </tr>\n",
              "    <tr>\n",
              "      <th>36</th>\n",
              "      <td>2013-07-08</td>\n",
              "      <td>24.628241</td>\n",
              "      <td>0.371759</td>\n",
              "    </tr>\n",
              "    <tr>\n",
              "      <th>37</th>\n",
              "      <td>2013-08-10</td>\n",
              "      <td>24.430787</td>\n",
              "      <td>0.569213</td>\n",
              "    </tr>\n",
              "    <tr>\n",
              "      <th>38</th>\n",
              "      <td>2013-08-13</td>\n",
              "      <td>24.819907</td>\n",
              "      <td>0.180093</td>\n",
              "    </tr>\n",
              "    <tr>\n",
              "      <th>39</th>\n",
              "      <td>2013-08-19</td>\n",
              "      <td>25.269907</td>\n",
              "      <td>0.269907</td>\n",
              "    </tr>\n",
              "    <tr>\n",
              "      <th>40</th>\n",
              "      <td>2014-06-09</td>\n",
              "      <td>24.827546</td>\n",
              "      <td>0.172454</td>\n",
              "    </tr>\n",
              "    <tr>\n",
              "      <th>41</th>\n",
              "      <td>2014-06-12</td>\n",
              "      <td>25.018519</td>\n",
              "      <td>0.018519</td>\n",
              "    </tr>\n",
              "    <tr>\n",
              "      <th>42</th>\n",
              "      <td>2014-07-20</td>\n",
              "      <td>25.000463</td>\n",
              "      <td>0.000463</td>\n",
              "    </tr>\n",
              "    <tr>\n",
              "      <th>43</th>\n",
              "      <td>2014-07-21</td>\n",
              "      <td>25.356250</td>\n",
              "      <td>0.356250</td>\n",
              "    </tr>\n",
              "    <tr>\n",
              "      <th>44</th>\n",
              "      <td>2014-08-11</td>\n",
              "      <td>25.358102</td>\n",
              "      <td>0.358102</td>\n",
              "    </tr>\n",
              "    <tr>\n",
              "      <th>45</th>\n",
              "      <td>2015-06-13</td>\n",
              "      <td>24.842361</td>\n",
              "      <td>0.157639</td>\n",
              "    </tr>\n",
              "    <tr>\n",
              "      <th>46</th>\n",
              "      <td>2015-07-05</td>\n",
              "      <td>24.869676</td>\n",
              "      <td>0.130324</td>\n",
              "    </tr>\n",
              "    <tr>\n",
              "      <th>47</th>\n",
              "      <td>2015-07-16</td>\n",
              "      <td>24.886574</td>\n",
              "      <td>0.113426</td>\n",
              "    </tr>\n",
              "    <tr>\n",
              "      <th>48</th>\n",
              "      <td>2015-08-03</td>\n",
              "      <td>24.852083</td>\n",
              "      <td>0.147917</td>\n",
              "    </tr>\n",
              "    <tr>\n",
              "      <th>49</th>\n",
              "      <td>2015-08-28</td>\n",
              "      <td>24.836111</td>\n",
              "      <td>0.163889</td>\n",
              "    </tr>\n",
              "    <tr>\n",
              "      <th>50</th>\n",
              "      <td>2016-06-22</td>\n",
              "      <td>25.046991</td>\n",
              "      <td>0.046991</td>\n",
              "    </tr>\n",
              "    <tr>\n",
              "      <th>51</th>\n",
              "      <td>2016-07-01</td>\n",
              "      <td>25.271759</td>\n",
              "      <td>0.271759</td>\n",
              "    </tr>\n",
              "    <tr>\n",
              "      <th>52</th>\n",
              "      <td>2016-07-11</td>\n",
              "      <td>25.158102</td>\n",
              "      <td>0.158102</td>\n",
              "    </tr>\n",
              "    <tr>\n",
              "      <th>53</th>\n",
              "      <td>2016-07-25</td>\n",
              "      <td>24.939815</td>\n",
              "      <td>0.060185</td>\n",
              "    </tr>\n",
              "    <tr>\n",
              "      <th>54</th>\n",
              "      <td>2016-07-30</td>\n",
              "      <td>25.048380</td>\n",
              "      <td>0.048380</td>\n",
              "    </tr>\n",
              "  </tbody>\n",
              "</table>\n",
              "</div>"
            ],
            "text/plain": [
              "   Formatted Date        AVG   Selisih\n",
              "0      2006-06-20  24.962037  0.037963\n",
              "1      2006-06-25  25.066435  0.066435\n",
              "2      2006-07-31  25.146991  0.146991\n",
              "3      2006-08-18  24.950926  0.049074\n",
              "4      2006-08-19  25.125926  0.125926\n",
              "5      2007-06-15  25.186806  0.186806\n",
              "6      2007-07-02  24.899074  0.100926\n",
              "7      2007-08-09  25.069444  0.069444\n",
              "8      2007-08-20  25.033102  0.033102\n",
              "9      2007-08-26  25.201620  0.201620\n",
              "10     2008-05-28  24.871528  0.128472\n",
              "11     2008-06-22  25.436806  0.436806\n",
              "12     2008-07-31  24.843056  0.156944\n",
              "13     2008-08-03  25.003472  0.003472\n",
              "14     2008-09-05  24.927083  0.072917\n",
              "15     2009-06-16  24.734259  0.265741\n",
              "16     2009-07-14  24.928241  0.071759\n",
              "17     2009-07-18  24.752546  0.247454\n",
              "18     2009-08-22  25.072917  0.072917\n",
              "19     2009-08-26  25.293056  0.293056\n",
              "20     2010-06-09  24.710880  0.289120\n",
              "21     2010-06-14  25.034954  0.034954\n",
              "22     2010-07-20  24.790509  0.209491\n",
              "23     2010-08-03  25.071759  0.071759\n",
              "24     2010-08-27  24.807407  0.192593\n",
              "25     2011-06-18  24.870602  0.129398\n",
              "26     2011-06-22  24.728472  0.271528\n",
              "27     2011-06-23  25.240046  0.240046\n",
              "28     2011-07-12  24.997685  0.002315\n",
              "29     2011-08-19  24.984491  0.015509\n",
              "30     2012-06-22  25.082176  0.082176\n",
              "31     2012-07-20  24.998843  0.001157\n",
              "32     2012-07-29  24.929861  0.070139\n",
              "33     2012-08-01  24.819907  0.180093\n",
              "34     2012-08-26  25.008565  0.008565\n",
              "35     2013-06-16  24.536343  0.463657\n",
              "36     2013-07-08  24.628241  0.371759\n",
              "37     2013-08-10  24.430787  0.569213\n",
              "38     2013-08-13  24.819907  0.180093\n",
              "39     2013-08-19  25.269907  0.269907\n",
              "40     2014-06-09  24.827546  0.172454\n",
              "41     2014-06-12  25.018519  0.018519\n",
              "42     2014-07-20  25.000463  0.000463\n",
              "43     2014-07-21  25.356250  0.356250\n",
              "44     2014-08-11  25.358102  0.358102\n",
              "45     2015-06-13  24.842361  0.157639\n",
              "46     2015-07-05  24.869676  0.130324\n",
              "47     2015-07-16  24.886574  0.113426\n",
              "48     2015-08-03  24.852083  0.147917\n",
              "49     2015-08-28  24.836111  0.163889\n",
              "50     2016-06-22  25.046991  0.046991\n",
              "51     2016-07-01  25.271759  0.271759\n",
              "52     2016-07-11  25.158102  0.158102\n",
              "53     2016-07-25  24.939815  0.060185\n",
              "54     2016-07-30  25.048380  0.048380"
            ]
          },
          "metadata": {
            "tags": []
          },
          "execution_count": 315
        }
      ]
    },
    {
      "cell_type": "code",
      "metadata": {
        "id": "B0husZRxafZi",
        "colab_type": "code",
        "colab": {
          "resources": {
            "http://localhost:8080/nbextensions/google.colab/files.js": {
              "data": "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",
              "ok": true,
              "headers": [
                [
                  "content-type",
                  "application/javascript"
                ]
              ],
              "status": 200,
              "status_text": "OK"
            }
          },
          "base_uri": "https://localhost:8080/",
          "height": 77
        },
        "outputId": "fd93385b-96a1-4113-9dae-4403ee14e586"
      },
      "source": [
        "# Load dataset tanggal Ramadan mulai tahun 2006 sampai 2016\n",
        "#Upload Dataset ramadanDate\n",
        "from google.colab import files\n",
        "uploaded = files.upload()"
      ],
      "execution_count": 269,
      "outputs": [
        {
          "output_type": "display_data",
          "data": {
            "text/html": [
              "\n",
              "     <input type=\"file\" id=\"files-9d9fe824-b57a-49f9-afce-887c6281c678\" name=\"files[]\" multiple disabled />\n",
              "     <output id=\"result-9d9fe824-b57a-49f9-afce-887c6281c678\">\n",
              "      Upload widget is only available when the cell has been executed in the\n",
              "      current browser session. Please rerun this cell to enable.\n",
              "      </output>\n",
              "      <script src=\"/nbextensions/google.colab/files.js\"></script> "
            ],
            "text/plain": [
              "<IPython.core.display.HTML object>"
            ]
          },
          "metadata": {
            "tags": []
          }
        },
        {
          "output_type": "stream",
          "text": [
            "Saving ramadanDate.csv to ramadanDate.csv\n"
          ],
          "name": "stdout"
        }
      ]
    },
    {
      "cell_type": "code",
      "metadata": {
        "id": "lN5KAolEaggU",
        "colab_type": "code",
        "colab": {}
      },
      "source": [
        "#move ramadanDate.csv ke folder \"dataset\"\n",
        "!mv ramadanDate.csv ./dataset"
      ],
      "execution_count": 0,
      "outputs": []
    },
    {
      "cell_type": "code",
      "metadata": {
        "id": "0MmbEv7jahBx",
        "colab_type": "code",
        "colab": {
          "base_uri": "https://localhost:8080/",
          "height": 35
        },
        "outputId": "fdbf32bf-0b84-4428-9e11-e5cc1aed80d3"
      },
      "source": [
        "!ls ./dataset"
      ],
      "execution_count": 272,
      "outputs": [
        {
          "output_type": "stream",
          "text": [
            "ramadanDate.csv  weatherHistory.csv\n"
          ],
          "name": "stdout"
        }
      ]
    },
    {
      "cell_type": "code",
      "metadata": {
        "id": "gxtNEK2rahh1",
        "colab_type": "code",
        "colab": {}
      },
      "source": [
        "# load data as dataframe (df)\n",
        "df_ramadan = pd.read_csv('./dataset/ramadanDate.csv')"
      ],
      "execution_count": 0,
      "outputs": []
    },
    {
      "cell_type": "code",
      "metadata": {
        "id": "2WT6SbTqqUMk",
        "colab_type": "code",
        "colab": {
          "base_uri": "https://localhost:8080/",
          "height": 395
        },
        "outputId": "8bd216db-9951-488e-a012-f9de77c02eff"
      },
      "source": [
        "df_ramadan"
      ],
      "execution_count": 274,
      "outputs": [
        {
          "output_type": "execute_result",
          "data": {
            "text/html": [
              "<div>\n",
              "<style scoped>\n",
              "    .dataframe tbody tr th:only-of-type {\n",
              "        vertical-align: middle;\n",
              "    }\n",
              "\n",
              "    .dataframe tbody tr th {\n",
              "        vertical-align: top;\n",
              "    }\n",
              "\n",
              "    .dataframe thead th {\n",
              "        text-align: right;\n",
              "    }\n",
              "</style>\n",
              "<table border=\"1\" class=\"dataframe\">\n",
              "  <thead>\n",
              "    <tr style=\"text-align: right;\">\n",
              "      <th></th>\n",
              "      <th>Tahun</th>\n",
              "      <th>Mulai Ramadan</th>\n",
              "      <th>Selesai Ramadan</th>\n",
              "    </tr>\n",
              "  </thead>\n",
              "  <tbody>\n",
              "    <tr>\n",
              "      <th>0</th>\n",
              "      <td>2006</td>\n",
              "      <td>23-Sep-06</td>\n",
              "      <td>22-Oct-06</td>\n",
              "    </tr>\n",
              "    <tr>\n",
              "      <th>1</th>\n",
              "      <td>2007</td>\n",
              "      <td>13-Sep-07</td>\n",
              "      <td>11-Oct-07</td>\n",
              "    </tr>\n",
              "    <tr>\n",
              "      <th>2</th>\n",
              "      <td>2008</td>\n",
              "      <td>1-Sep-08</td>\n",
              "      <td>30-Sep-08</td>\n",
              "    </tr>\n",
              "    <tr>\n",
              "      <th>3</th>\n",
              "      <td>2009</td>\n",
              "      <td>21-Aug-09</td>\n",
              "      <td>19-Sep-09</td>\n",
              "    </tr>\n",
              "    <tr>\n",
              "      <th>4</th>\n",
              "      <td>2010</td>\n",
              "      <td>11-Aug-10</td>\n",
              "      <td>8-Sep-10</td>\n",
              "    </tr>\n",
              "    <tr>\n",
              "      <th>5</th>\n",
              "      <td>2011</td>\n",
              "      <td>31-Jul-11</td>\n",
              "      <td>29-Aug-11</td>\n",
              "    </tr>\n",
              "    <tr>\n",
              "      <th>6</th>\n",
              "      <td>2012</td>\n",
              "      <td>20-Jul-12</td>\n",
              "      <td>17-Aug-12</td>\n",
              "    </tr>\n",
              "    <tr>\n",
              "      <th>7</th>\n",
              "      <td>2013</td>\n",
              "      <td>9-Jul-13</td>\n",
              "      <td>6-Aug-13</td>\n",
              "    </tr>\n",
              "    <tr>\n",
              "      <th>8</th>\n",
              "      <td>2014</td>\n",
              "      <td>28-Jun-14</td>\n",
              "      <td>27-Jul-14</td>\n",
              "    </tr>\n",
              "    <tr>\n",
              "      <th>9</th>\n",
              "      <td>2015</td>\n",
              "      <td>18-Jun-15</td>\n",
              "      <td>16-Jul-15</td>\n",
              "    </tr>\n",
              "    <tr>\n",
              "      <th>10</th>\n",
              "      <td>2016</td>\n",
              "      <td>6-Jun-16</td>\n",
              "      <td>5-Jul-16</td>\n",
              "    </tr>\n",
              "  </tbody>\n",
              "</table>\n",
              "</div>"
            ],
            "text/plain": [
              "    Tahun Mulai Ramadan Selesai Ramadan\n",
              "0    2006     23-Sep-06       22-Oct-06\n",
              "1    2007     13-Sep-07       11-Oct-07\n",
              "2    2008      1-Sep-08       30-Sep-08\n",
              "3    2009     21-Aug-09       19-Sep-09\n",
              "4    2010     11-Aug-10        8-Sep-10\n",
              "5    2011     31-Jul-11       29-Aug-11\n",
              "6    2012     20-Jul-12       17-Aug-12\n",
              "7    2013      9-Jul-13        6-Aug-13\n",
              "8    2014     28-Jun-14       27-Jul-14\n",
              "9    2015     18-Jun-15       16-Jul-15\n",
              "10   2016      6-Jun-16        5-Jul-16"
            ]
          },
          "metadata": {
            "tags": []
          },
          "execution_count": 274
        }
      ]
    },
    {
      "cell_type": "code",
      "metadata": {
        "id": "b12pMBp9qUzT",
        "colab_type": "code",
        "colab": {}
      },
      "source": [
        "#Convert kolom \"Mulai Ramadan\" dan \"Selesai Ramadan\" ke datetime\n",
        "df_ramadan['Mulai Ramadan']= pd.to_datetime(df_ramadan['Mulai Ramadan'])\n",
        "df_ramadan['Selesai Ramadan']= pd.to_datetime(df_ramadan['Selesai Ramadan'])    "
      ],
      "execution_count": 0,
      "outputs": []
    },
    {
      "cell_type": "code",
      "metadata": {
        "id": "b_Fl909kqVNX",
        "colab_type": "code",
        "colab": {
          "base_uri": "https://localhost:8080/",
          "height": 91
        },
        "outputId": "00387a9f-9c37-4789-a949-08529eed4d64"
      },
      "source": [
        "df_ramadan.dtypes"
      ],
      "execution_count": 279,
      "outputs": [
        {
          "output_type": "execute_result",
          "data": {
            "text/plain": [
              "Tahun                       int64\n",
              "Mulai Ramadan      datetime64[ns]\n",
              "Selesai Ramadan    datetime64[ns]\n",
              "dtype: object"
            ]
          },
          "metadata": {
            "tags": []
          },
          "execution_count": 279
        }
      ]
    },
    {
      "cell_type": "code",
      "metadata": {
        "id": "zg8EB2-7vs4h",
        "colab_type": "code",
        "colab": {}
      },
      "source": [
        "# Mengubah interval Ramadan menjadi lebih lebar, yaitu pada interval [vRMin-abs(Ev); vRMax+abs(Ev)]. \n",
        "# Misal Ev diset dengan nilai 0 atau maks dengan nilai 5 (hari).\n",
        "const_Ev = 3\n",
        "df_ramadan['Mulai Ramadan'] = df_ramadan['Mulai Ramadan'] - pd.Timedelta(const_Ev, unit='d')\n",
        "df_ramadan['Selesai Ramadan'] = df_ramadan['Selesai Ramadan'] + pd.Timedelta(const_Ev, unit='d')\n"
      ],
      "execution_count": 0,
      "outputs": []
    },
    {
      "cell_type": "code",
      "metadata": {
        "id": "4O7ECLwFvtRM",
        "colab_type": "code",
        "colab": {
          "base_uri": "https://localhost:8080/",
          "height": 395
        },
        "outputId": "24588401-2fec-48cb-8745-6c3e4b407984"
      },
      "source": [
        "df_ramadan"
      ],
      "execution_count": 353,
      "outputs": [
        {
          "output_type": "execute_result",
          "data": {
            "text/html": [
              "<div>\n",
              "<style scoped>\n",
              "    .dataframe tbody tr th:only-of-type {\n",
              "        vertical-align: middle;\n",
              "    }\n",
              "\n",
              "    .dataframe tbody tr th {\n",
              "        vertical-align: top;\n",
              "    }\n",
              "\n",
              "    .dataframe thead th {\n",
              "        text-align: right;\n",
              "    }\n",
              "</style>\n",
              "<table border=\"1\" class=\"dataframe\">\n",
              "  <thead>\n",
              "    <tr style=\"text-align: right;\">\n",
              "      <th></th>\n",
              "      <th>Tahun</th>\n",
              "      <th>Mulai Ramadan</th>\n",
              "      <th>Selesai Ramadan</th>\n",
              "    </tr>\n",
              "  </thead>\n",
              "  <tbody>\n",
              "    <tr>\n",
              "      <th>0</th>\n",
              "      <td>2006</td>\n",
              "      <td>2006-09-21</td>\n",
              "      <td>2006-10-24</td>\n",
              "    </tr>\n",
              "    <tr>\n",
              "      <th>1</th>\n",
              "      <td>2007</td>\n",
              "      <td>2007-09-11</td>\n",
              "      <td>2007-10-13</td>\n",
              "    </tr>\n",
              "    <tr>\n",
              "      <th>2</th>\n",
              "      <td>2008</td>\n",
              "      <td>2008-08-30</td>\n",
              "      <td>2008-10-02</td>\n",
              "    </tr>\n",
              "    <tr>\n",
              "      <th>3</th>\n",
              "      <td>2009</td>\n",
              "      <td>2009-08-19</td>\n",
              "      <td>2009-09-21</td>\n",
              "    </tr>\n",
              "    <tr>\n",
              "      <th>4</th>\n",
              "      <td>2010</td>\n",
              "      <td>2010-08-09</td>\n",
              "      <td>2010-09-10</td>\n",
              "    </tr>\n",
              "    <tr>\n",
              "      <th>5</th>\n",
              "      <td>2011</td>\n",
              "      <td>2011-07-29</td>\n",
              "      <td>2011-08-31</td>\n",
              "    </tr>\n",
              "    <tr>\n",
              "      <th>6</th>\n",
              "      <td>2012</td>\n",
              "      <td>2012-07-18</td>\n",
              "      <td>2012-08-19</td>\n",
              "    </tr>\n",
              "    <tr>\n",
              "      <th>7</th>\n",
              "      <td>2013</td>\n",
              "      <td>2013-07-07</td>\n",
              "      <td>2013-08-08</td>\n",
              "    </tr>\n",
              "    <tr>\n",
              "      <th>8</th>\n",
              "      <td>2014</td>\n",
              "      <td>2014-06-26</td>\n",
              "      <td>2014-07-29</td>\n",
              "    </tr>\n",
              "    <tr>\n",
              "      <th>9</th>\n",
              "      <td>2015</td>\n",
              "      <td>2015-06-16</td>\n",
              "      <td>2015-07-18</td>\n",
              "    </tr>\n",
              "    <tr>\n",
              "      <th>10</th>\n",
              "      <td>2016</td>\n",
              "      <td>2016-06-04</td>\n",
              "      <td>2016-07-07</td>\n",
              "    </tr>\n",
              "  </tbody>\n",
              "</table>\n",
              "</div>"
            ],
            "text/plain": [
              "    Tahun Mulai Ramadan Selesai Ramadan\n",
              "0    2006    2006-09-21      2006-10-24\n",
              "1    2007    2007-09-11      2007-10-13\n",
              "2    2008    2008-08-30      2008-10-02\n",
              "3    2009    2009-08-19      2009-09-21\n",
              "4    2010    2010-08-09      2010-09-10\n",
              "5    2011    2011-07-29      2011-08-31\n",
              "6    2012    2012-07-18      2012-08-19\n",
              "7    2013    2013-07-07      2013-08-08\n",
              "8    2014    2014-06-26      2014-07-29\n",
              "9    2015    2015-06-16      2015-07-18\n",
              "10   2016    2016-06-04      2016-07-07"
            ]
          },
          "metadata": {
            "tags": []
          },
          "execution_count": 353
        }
      ]
    },
    {
      "cell_type": "code",
      "metadata": {
        "id": "LFbnpbi8v4Tg",
        "colab_type": "code",
        "colab": {
          "base_uri": "https://localhost:8080/",
          "height": 424
        },
        "outputId": "25dcf279-09e2-4e06-eb1b-387a26f138a9"
      },
      "source": [
        "# df_ramadan padding kebawah sebanyak const_n_first, agar ketika di merger sukses  \n",
        "# .reset_index(drop=True, inplace=False).copy()\n",
        "df_ramadan = pd.concat([df_ramadan]*const_n_first).sort_index().reset_index(drop=True, inplace=False)\n",
        "df_ramadan"
      ],
      "execution_count": 65,
      "outputs": [
        {
          "output_type": "execute_result",
          "data": {
            "text/html": [
              "<div>\n",
              "<style scoped>\n",
              "    .dataframe tbody tr th:only-of-type {\n",
              "        vertical-align: middle;\n",
              "    }\n",
              "\n",
              "    .dataframe tbody tr th {\n",
              "        vertical-align: top;\n",
              "    }\n",
              "\n",
              "    .dataframe thead th {\n",
              "        text-align: right;\n",
              "    }\n",
              "</style>\n",
              "<table border=\"1\" class=\"dataframe\">\n",
              "  <thead>\n",
              "    <tr style=\"text-align: right;\">\n",
              "      <th></th>\n",
              "      <th>Tahun</th>\n",
              "      <th>Mulai Ramadan</th>\n",
              "      <th>Selesai Ramadan</th>\n",
              "    </tr>\n",
              "  </thead>\n",
              "  <tbody>\n",
              "    <tr>\n",
              "      <th>0</th>\n",
              "      <td>2006</td>\n",
              "      <td>2006-09-20</td>\n",
              "      <td>2006-10-25</td>\n",
              "    </tr>\n",
              "    <tr>\n",
              "      <th>1</th>\n",
              "      <td>2006</td>\n",
              "      <td>2006-09-20</td>\n",
              "      <td>2006-10-25</td>\n",
              "    </tr>\n",
              "    <tr>\n",
              "      <th>2</th>\n",
              "      <td>2006</td>\n",
              "      <td>2006-09-20</td>\n",
              "      <td>2006-10-25</td>\n",
              "    </tr>\n",
              "    <tr>\n",
              "      <th>3</th>\n",
              "      <td>2006</td>\n",
              "      <td>2006-09-20</td>\n",
              "      <td>2006-10-25</td>\n",
              "    </tr>\n",
              "    <tr>\n",
              "      <th>4</th>\n",
              "      <td>2006</td>\n",
              "      <td>2006-09-20</td>\n",
              "      <td>2006-10-25</td>\n",
              "    </tr>\n",
              "    <tr>\n",
              "      <th>...</th>\n",
              "      <td>...</td>\n",
              "      <td>...</td>\n",
              "      <td>...</td>\n",
              "    </tr>\n",
              "    <tr>\n",
              "      <th>105</th>\n",
              "      <td>2016</td>\n",
              "      <td>2016-06-03</td>\n",
              "      <td>2016-07-08</td>\n",
              "    </tr>\n",
              "    <tr>\n",
              "      <th>106</th>\n",
              "      <td>2016</td>\n",
              "      <td>2016-06-03</td>\n",
              "      <td>2016-07-08</td>\n",
              "    </tr>\n",
              "    <tr>\n",
              "      <th>107</th>\n",
              "      <td>2016</td>\n",
              "      <td>2016-06-03</td>\n",
              "      <td>2016-07-08</td>\n",
              "    </tr>\n",
              "    <tr>\n",
              "      <th>108</th>\n",
              "      <td>2016</td>\n",
              "      <td>2016-06-03</td>\n",
              "      <td>2016-07-08</td>\n",
              "    </tr>\n",
              "    <tr>\n",
              "      <th>109</th>\n",
              "      <td>2016</td>\n",
              "      <td>2016-06-03</td>\n",
              "      <td>2016-07-08</td>\n",
              "    </tr>\n",
              "  </tbody>\n",
              "</table>\n",
              "<p>110 rows × 3 columns</p>\n",
              "</div>"
            ],
            "text/plain": [
              "     Tahun Mulai Ramadan Selesai Ramadan\n",
              "0     2006    2006-09-20      2006-10-25\n",
              "1     2006    2006-09-20      2006-10-25\n",
              "2     2006    2006-09-20      2006-10-25\n",
              "3     2006    2006-09-20      2006-10-25\n",
              "4     2006    2006-09-20      2006-10-25\n",
              "..     ...           ...             ...\n",
              "105   2016    2016-06-03      2016-07-08\n",
              "106   2016    2016-06-03      2016-07-08\n",
              "107   2016    2016-06-03      2016-07-08\n",
              "108   2016    2016-06-03      2016-07-08\n",
              "109   2016    2016-06-03      2016-07-08\n",
              "\n",
              "[110 rows x 3 columns]"
            ]
          },
          "metadata": {
            "tags": []
          },
          "execution_count": 65
        }
      ]
    },
    {
      "cell_type": "code",
      "metadata": {
        "id": "2gR9itSk3_Wy",
        "colab_type": "code",
        "colab": {}
      },
      "source": [
        ""
      ],
      "execution_count": 0,
      "outputs": []
    },
    {
      "cell_type": "code",
      "metadata": {
        "id": "u_69FpWssNEa",
        "colab_type": "code",
        "colab": {}
      },
      "source": [
        "# Tampilkan df2 dan df_ramadan\n",
        "df_col_merged = pd.concat([df3, df_ramadan], axis=1)\n"
      ],
      "execution_count": 0,
      "outputs": []
    },
    {
      "cell_type": "code",
      "metadata": {
        "id": "xnUWRN2at6LP",
        "colab_type": "code",
        "colab": {
          "base_uri": "https://localhost:8080/",
          "height": 1000
        },
        "outputId": "63a82265-efdd-4486-a506-98587ca1092b"
      },
      "source": [
        "df_col_merged"
      ],
      "execution_count": 356,
      "outputs": [
        {
          "output_type": "execute_result",
          "data": {
            "text/html": [
              "<div>\n",
              "<style scoped>\n",
              "    .dataframe tbody tr th:only-of-type {\n",
              "        vertical-align: middle;\n",
              "    }\n",
              "\n",
              "    .dataframe tbody tr th {\n",
              "        vertical-align: top;\n",
              "    }\n",
              "\n",
              "    .dataframe thead th {\n",
              "        text-align: right;\n",
              "    }\n",
              "</style>\n",
              "<table border=\"1\" class=\"dataframe\">\n",
              "  <thead>\n",
              "    <tr style=\"text-align: right;\">\n",
              "      <th></th>\n",
              "      <th>Formatted Date</th>\n",
              "      <th>AVG</th>\n",
              "      <th>Selisih</th>\n",
              "      <th>Tahun</th>\n",
              "      <th>Mulai Ramadan</th>\n",
              "      <th>Selesai Ramadan</th>\n",
              "    </tr>\n",
              "  </thead>\n",
              "  <tbody>\n",
              "    <tr>\n",
              "      <th>0</th>\n",
              "      <td>2006-06-20</td>\n",
              "      <td>24.962037</td>\n",
              "      <td>0.037963</td>\n",
              "      <td>2006</td>\n",
              "      <td>2006-09-21</td>\n",
              "      <td>2006-10-24</td>\n",
              "    </tr>\n",
              "    <tr>\n",
              "      <th>1</th>\n",
              "      <td>2006-06-25</td>\n",
              "      <td>25.066435</td>\n",
              "      <td>0.066435</td>\n",
              "      <td>2006</td>\n",
              "      <td>2006-09-21</td>\n",
              "      <td>2006-10-24</td>\n",
              "    </tr>\n",
              "    <tr>\n",
              "      <th>2</th>\n",
              "      <td>2006-07-31</td>\n",
              "      <td>25.146991</td>\n",
              "      <td>0.146991</td>\n",
              "      <td>2006</td>\n",
              "      <td>2006-09-21</td>\n",
              "      <td>2006-10-24</td>\n",
              "    </tr>\n",
              "    <tr>\n",
              "      <th>3</th>\n",
              "      <td>2006-08-18</td>\n",
              "      <td>24.950926</td>\n",
              "      <td>0.049074</td>\n",
              "      <td>2006</td>\n",
              "      <td>2006-09-21</td>\n",
              "      <td>2006-10-24</td>\n",
              "    </tr>\n",
              "    <tr>\n",
              "      <th>4</th>\n",
              "      <td>2006-08-19</td>\n",
              "      <td>25.125926</td>\n",
              "      <td>0.125926</td>\n",
              "      <td>2006</td>\n",
              "      <td>2006-09-21</td>\n",
              "      <td>2006-10-24</td>\n",
              "    </tr>\n",
              "    <tr>\n",
              "      <th>5</th>\n",
              "      <td>2007-06-15</td>\n",
              "      <td>25.186806</td>\n",
              "      <td>0.186806</td>\n",
              "      <td>2007</td>\n",
              "      <td>2007-09-11</td>\n",
              "      <td>2007-10-13</td>\n",
              "    </tr>\n",
              "    <tr>\n",
              "      <th>6</th>\n",
              "      <td>2007-07-02</td>\n",
              "      <td>24.899074</td>\n",
              "      <td>0.100926</td>\n",
              "      <td>2007</td>\n",
              "      <td>2007-09-11</td>\n",
              "      <td>2007-10-13</td>\n",
              "    </tr>\n",
              "    <tr>\n",
              "      <th>7</th>\n",
              "      <td>2007-08-09</td>\n",
              "      <td>25.069444</td>\n",
              "      <td>0.069444</td>\n",
              "      <td>2007</td>\n",
              "      <td>2007-09-11</td>\n",
              "      <td>2007-10-13</td>\n",
              "    </tr>\n",
              "    <tr>\n",
              "      <th>8</th>\n",
              "      <td>2007-08-20</td>\n",
              "      <td>25.033102</td>\n",
              "      <td>0.033102</td>\n",
              "      <td>2007</td>\n",
              "      <td>2007-09-11</td>\n",
              "      <td>2007-10-13</td>\n",
              "    </tr>\n",
              "    <tr>\n",
              "      <th>9</th>\n",
              "      <td>2007-08-26</td>\n",
              "      <td>25.201620</td>\n",
              "      <td>0.201620</td>\n",
              "      <td>2007</td>\n",
              "      <td>2007-09-11</td>\n",
              "      <td>2007-10-13</td>\n",
              "    </tr>\n",
              "    <tr>\n",
              "      <th>10</th>\n",
              "      <td>2008-05-28</td>\n",
              "      <td>24.871528</td>\n",
              "      <td>0.128472</td>\n",
              "      <td>2008</td>\n",
              "      <td>2008-08-30</td>\n",
              "      <td>2008-10-02</td>\n",
              "    </tr>\n",
              "    <tr>\n",
              "      <th>11</th>\n",
              "      <td>2008-06-22</td>\n",
              "      <td>25.436806</td>\n",
              "      <td>0.436806</td>\n",
              "      <td>2008</td>\n",
              "      <td>2008-08-30</td>\n",
              "      <td>2008-10-02</td>\n",
              "    </tr>\n",
              "    <tr>\n",
              "      <th>12</th>\n",
              "      <td>2008-07-31</td>\n",
              "      <td>24.843056</td>\n",
              "      <td>0.156944</td>\n",
              "      <td>2008</td>\n",
              "      <td>2008-08-30</td>\n",
              "      <td>2008-10-02</td>\n",
              "    </tr>\n",
              "    <tr>\n",
              "      <th>13</th>\n",
              "      <td>2008-08-03</td>\n",
              "      <td>25.003472</td>\n",
              "      <td>0.003472</td>\n",
              "      <td>2008</td>\n",
              "      <td>2008-08-30</td>\n",
              "      <td>2008-10-02</td>\n",
              "    </tr>\n",
              "    <tr>\n",
              "      <th>14</th>\n",
              "      <td>2008-09-05</td>\n",
              "      <td>24.927083</td>\n",
              "      <td>0.072917</td>\n",
              "      <td>2008</td>\n",
              "      <td>2008-08-30</td>\n",
              "      <td>2008-10-02</td>\n",
              "    </tr>\n",
              "    <tr>\n",
              "      <th>15</th>\n",
              "      <td>2009-06-16</td>\n",
              "      <td>24.734259</td>\n",
              "      <td>0.265741</td>\n",
              "      <td>2009</td>\n",
              "      <td>2009-08-19</td>\n",
              "      <td>2009-09-21</td>\n",
              "    </tr>\n",
              "    <tr>\n",
              "      <th>16</th>\n",
              "      <td>2009-07-14</td>\n",
              "      <td>24.928241</td>\n",
              "      <td>0.071759</td>\n",
              "      <td>2009</td>\n",
              "      <td>2009-08-19</td>\n",
              "      <td>2009-09-21</td>\n",
              "    </tr>\n",
              "    <tr>\n",
              "      <th>17</th>\n",
              "      <td>2009-07-18</td>\n",
              "      <td>24.752546</td>\n",
              "      <td>0.247454</td>\n",
              "      <td>2009</td>\n",
              "      <td>2009-08-19</td>\n",
              "      <td>2009-09-21</td>\n",
              "    </tr>\n",
              "    <tr>\n",
              "      <th>18</th>\n",
              "      <td>2009-08-22</td>\n",
              "      <td>25.072917</td>\n",
              "      <td>0.072917</td>\n",
              "      <td>2009</td>\n",
              "      <td>2009-08-19</td>\n",
              "      <td>2009-09-21</td>\n",
              "    </tr>\n",
              "    <tr>\n",
              "      <th>19</th>\n",
              "      <td>2009-08-26</td>\n",
              "      <td>25.293056</td>\n",
              "      <td>0.293056</td>\n",
              "      <td>2009</td>\n",
              "      <td>2009-08-19</td>\n",
              "      <td>2009-09-21</td>\n",
              "    </tr>\n",
              "    <tr>\n",
              "      <th>20</th>\n",
              "      <td>2010-06-09</td>\n",
              "      <td>24.710880</td>\n",
              "      <td>0.289120</td>\n",
              "      <td>2010</td>\n",
              "      <td>2010-08-09</td>\n",
              "      <td>2010-09-10</td>\n",
              "    </tr>\n",
              "    <tr>\n",
              "      <th>21</th>\n",
              "      <td>2010-06-14</td>\n",
              "      <td>25.034954</td>\n",
              "      <td>0.034954</td>\n",
              "      <td>2010</td>\n",
              "      <td>2010-08-09</td>\n",
              "      <td>2010-09-10</td>\n",
              "    </tr>\n",
              "    <tr>\n",
              "      <th>22</th>\n",
              "      <td>2010-07-20</td>\n",
              "      <td>24.790509</td>\n",
              "      <td>0.209491</td>\n",
              "      <td>2010</td>\n",
              "      <td>2010-08-09</td>\n",
              "      <td>2010-09-10</td>\n",
              "    </tr>\n",
              "    <tr>\n",
              "      <th>23</th>\n",
              "      <td>2010-08-03</td>\n",
              "      <td>25.071759</td>\n",
              "      <td>0.071759</td>\n",
              "      <td>2010</td>\n",
              "      <td>2010-08-09</td>\n",
              "      <td>2010-09-10</td>\n",
              "    </tr>\n",
              "    <tr>\n",
              "      <th>24</th>\n",
              "      <td>2010-08-27</td>\n",
              "      <td>24.807407</td>\n",
              "      <td>0.192593</td>\n",
              "      <td>2010</td>\n",
              "      <td>2010-08-09</td>\n",
              "      <td>2010-09-10</td>\n",
              "    </tr>\n",
              "    <tr>\n",
              "      <th>25</th>\n",
              "      <td>2011-06-18</td>\n",
              "      <td>24.870602</td>\n",
              "      <td>0.129398</td>\n",
              "      <td>2011</td>\n",
              "      <td>2011-07-29</td>\n",
              "      <td>2011-08-31</td>\n",
              "    </tr>\n",
              "    <tr>\n",
              "      <th>26</th>\n",
              "      <td>2011-06-22</td>\n",
              "      <td>24.728472</td>\n",
              "      <td>0.271528</td>\n",
              "      <td>2011</td>\n",
              "      <td>2011-07-29</td>\n",
              "      <td>2011-08-31</td>\n",
              "    </tr>\n",
              "    <tr>\n",
              "      <th>27</th>\n",
              "      <td>2011-06-23</td>\n",
              "      <td>25.240046</td>\n",
              "      <td>0.240046</td>\n",
              "      <td>2011</td>\n",
              "      <td>2011-07-29</td>\n",
              "      <td>2011-08-31</td>\n",
              "    </tr>\n",
              "    <tr>\n",
              "      <th>28</th>\n",
              "      <td>2011-07-12</td>\n",
              "      <td>24.997685</td>\n",
              "      <td>0.002315</td>\n",
              "      <td>2011</td>\n",
              "      <td>2011-07-29</td>\n",
              "      <td>2011-08-31</td>\n",
              "    </tr>\n",
              "    <tr>\n",
              "      <th>29</th>\n",
              "      <td>2011-08-19</td>\n",
              "      <td>24.984491</td>\n",
              "      <td>0.015509</td>\n",
              "      <td>2011</td>\n",
              "      <td>2011-07-29</td>\n",
              "      <td>2011-08-31</td>\n",
              "    </tr>\n",
              "    <tr>\n",
              "      <th>30</th>\n",
              "      <td>2012-06-22</td>\n",
              "      <td>25.082176</td>\n",
              "      <td>0.082176</td>\n",
              "      <td>2012</td>\n",
              "      <td>2012-07-18</td>\n",
              "      <td>2012-08-19</td>\n",
              "    </tr>\n",
              "    <tr>\n",
              "      <th>31</th>\n",
              "      <td>2012-07-20</td>\n",
              "      <td>24.998843</td>\n",
              "      <td>0.001157</td>\n",
              "      <td>2012</td>\n",
              "      <td>2012-07-18</td>\n",
              "      <td>2012-08-19</td>\n",
              "    </tr>\n",
              "    <tr>\n",
              "      <th>32</th>\n",
              "      <td>2012-07-29</td>\n",
              "      <td>24.929861</td>\n",
              "      <td>0.070139</td>\n",
              "      <td>2012</td>\n",
              "      <td>2012-07-18</td>\n",
              "      <td>2012-08-19</td>\n",
              "    </tr>\n",
              "    <tr>\n",
              "      <th>33</th>\n",
              "      <td>2012-08-01</td>\n",
              "      <td>24.819907</td>\n",
              "      <td>0.180093</td>\n",
              "      <td>2012</td>\n",
              "      <td>2012-07-18</td>\n",
              "      <td>2012-08-19</td>\n",
              "    </tr>\n",
              "    <tr>\n",
              "      <th>34</th>\n",
              "      <td>2012-08-26</td>\n",
              "      <td>25.008565</td>\n",
              "      <td>0.008565</td>\n",
              "      <td>2012</td>\n",
              "      <td>2012-07-18</td>\n",
              "      <td>2012-08-19</td>\n",
              "    </tr>\n",
              "    <tr>\n",
              "      <th>35</th>\n",
              "      <td>2013-06-16</td>\n",
              "      <td>24.536343</td>\n",
              "      <td>0.463657</td>\n",
              "      <td>2013</td>\n",
              "      <td>2013-07-07</td>\n",
              "      <td>2013-08-08</td>\n",
              "    </tr>\n",
              "    <tr>\n",
              "      <th>36</th>\n",
              "      <td>2013-07-08</td>\n",
              "      <td>24.628241</td>\n",
              "      <td>0.371759</td>\n",
              "      <td>2013</td>\n",
              "      <td>2013-07-07</td>\n",
              "      <td>2013-08-08</td>\n",
              "    </tr>\n",
              "    <tr>\n",
              "      <th>37</th>\n",
              "      <td>2013-08-10</td>\n",
              "      <td>24.430787</td>\n",
              "      <td>0.569213</td>\n",
              "      <td>2013</td>\n",
              "      <td>2013-07-07</td>\n",
              "      <td>2013-08-08</td>\n",
              "    </tr>\n",
              "    <tr>\n",
              "      <th>38</th>\n",
              "      <td>2013-08-13</td>\n",
              "      <td>24.819907</td>\n",
              "      <td>0.180093</td>\n",
              "      <td>2013</td>\n",
              "      <td>2013-07-07</td>\n",
              "      <td>2013-08-08</td>\n",
              "    </tr>\n",
              "    <tr>\n",
              "      <th>39</th>\n",
              "      <td>2013-08-19</td>\n",
              "      <td>25.269907</td>\n",
              "      <td>0.269907</td>\n",
              "      <td>2013</td>\n",
              "      <td>2013-07-07</td>\n",
              "      <td>2013-08-08</td>\n",
              "    </tr>\n",
              "    <tr>\n",
              "      <th>40</th>\n",
              "      <td>2014-06-09</td>\n",
              "      <td>24.827546</td>\n",
              "      <td>0.172454</td>\n",
              "      <td>2014</td>\n",
              "      <td>2014-06-26</td>\n",
              "      <td>2014-07-29</td>\n",
              "    </tr>\n",
              "    <tr>\n",
              "      <th>41</th>\n",
              "      <td>2014-06-12</td>\n",
              "      <td>25.018519</td>\n",
              "      <td>0.018519</td>\n",
              "      <td>2014</td>\n",
              "      <td>2014-06-26</td>\n",
              "      <td>2014-07-29</td>\n",
              "    </tr>\n",
              "    <tr>\n",
              "      <th>42</th>\n",
              "      <td>2014-07-20</td>\n",
              "      <td>25.000463</td>\n",
              "      <td>0.000463</td>\n",
              "      <td>2014</td>\n",
              "      <td>2014-06-26</td>\n",
              "      <td>2014-07-29</td>\n",
              "    </tr>\n",
              "    <tr>\n",
              "      <th>43</th>\n",
              "      <td>2014-07-21</td>\n",
              "      <td>25.356250</td>\n",
              "      <td>0.356250</td>\n",
              "      <td>2014</td>\n",
              "      <td>2014-06-26</td>\n",
              "      <td>2014-07-29</td>\n",
              "    </tr>\n",
              "    <tr>\n",
              "      <th>44</th>\n",
              "      <td>2014-08-11</td>\n",
              "      <td>25.358102</td>\n",
              "      <td>0.358102</td>\n",
              "      <td>2014</td>\n",
              "      <td>2014-06-26</td>\n",
              "      <td>2014-07-29</td>\n",
              "    </tr>\n",
              "    <tr>\n",
              "      <th>45</th>\n",
              "      <td>2015-06-13</td>\n",
              "      <td>24.842361</td>\n",
              "      <td>0.157639</td>\n",
              "      <td>2015</td>\n",
              "      <td>2015-06-16</td>\n",
              "      <td>2015-07-18</td>\n",
              "    </tr>\n",
              "    <tr>\n",
              "      <th>46</th>\n",
              "      <td>2015-07-05</td>\n",
              "      <td>24.869676</td>\n",
              "      <td>0.130324</td>\n",
              "      <td>2015</td>\n",
              "      <td>2015-06-16</td>\n",
              "      <td>2015-07-18</td>\n",
              "    </tr>\n",
              "    <tr>\n",
              "      <th>47</th>\n",
              "      <td>2015-07-16</td>\n",
              "      <td>24.886574</td>\n",
              "      <td>0.113426</td>\n",
              "      <td>2015</td>\n",
              "      <td>2015-06-16</td>\n",
              "      <td>2015-07-18</td>\n",
              "    </tr>\n",
              "    <tr>\n",
              "      <th>48</th>\n",
              "      <td>2015-08-03</td>\n",
              "      <td>24.852083</td>\n",
              "      <td>0.147917</td>\n",
              "      <td>2015</td>\n",
              "      <td>2015-06-16</td>\n",
              "      <td>2015-07-18</td>\n",
              "    </tr>\n",
              "    <tr>\n",
              "      <th>49</th>\n",
              "      <td>2015-08-28</td>\n",
              "      <td>24.836111</td>\n",
              "      <td>0.163889</td>\n",
              "      <td>2015</td>\n",
              "      <td>2015-06-16</td>\n",
              "      <td>2015-07-18</td>\n",
              "    </tr>\n",
              "    <tr>\n",
              "      <th>50</th>\n",
              "      <td>2016-06-22</td>\n",
              "      <td>25.046991</td>\n",
              "      <td>0.046991</td>\n",
              "      <td>2016</td>\n",
              "      <td>2016-06-04</td>\n",
              "      <td>2016-07-07</td>\n",
              "    </tr>\n",
              "    <tr>\n",
              "      <th>51</th>\n",
              "      <td>2016-07-01</td>\n",
              "      <td>25.271759</td>\n",
              "      <td>0.271759</td>\n",
              "      <td>2016</td>\n",
              "      <td>2016-06-04</td>\n",
              "      <td>2016-07-07</td>\n",
              "    </tr>\n",
              "    <tr>\n",
              "      <th>52</th>\n",
              "      <td>2016-07-11</td>\n",
              "      <td>25.158102</td>\n",
              "      <td>0.158102</td>\n",
              "      <td>2016</td>\n",
              "      <td>2016-06-04</td>\n",
              "      <td>2016-07-07</td>\n",
              "    </tr>\n",
              "    <tr>\n",
              "      <th>53</th>\n",
              "      <td>2016-07-25</td>\n",
              "      <td>24.939815</td>\n",
              "      <td>0.060185</td>\n",
              "      <td>2016</td>\n",
              "      <td>2016-06-04</td>\n",
              "      <td>2016-07-07</td>\n",
              "    </tr>\n",
              "    <tr>\n",
              "      <th>54</th>\n",
              "      <td>2016-07-30</td>\n",
              "      <td>25.048380</td>\n",
              "      <td>0.048380</td>\n",
              "      <td>2016</td>\n",
              "      <td>2016-06-04</td>\n",
              "      <td>2016-07-07</td>\n",
              "    </tr>\n",
              "  </tbody>\n",
              "</table>\n",
              "</div>"
            ],
            "text/plain": [
              "   Formatted Date        AVG   Selisih  Tahun Mulai Ramadan Selesai Ramadan\n",
              "0      2006-06-20  24.962037  0.037963   2006    2006-09-21      2006-10-24\n",
              "1      2006-06-25  25.066435  0.066435   2006    2006-09-21      2006-10-24\n",
              "2      2006-07-31  25.146991  0.146991   2006    2006-09-21      2006-10-24\n",
              "3      2006-08-18  24.950926  0.049074   2006    2006-09-21      2006-10-24\n",
              "4      2006-08-19  25.125926  0.125926   2006    2006-09-21      2006-10-24\n",
              "5      2007-06-15  25.186806  0.186806   2007    2007-09-11      2007-10-13\n",
              "6      2007-07-02  24.899074  0.100926   2007    2007-09-11      2007-10-13\n",
              "7      2007-08-09  25.069444  0.069444   2007    2007-09-11      2007-10-13\n",
              "8      2007-08-20  25.033102  0.033102   2007    2007-09-11      2007-10-13\n",
              "9      2007-08-26  25.201620  0.201620   2007    2007-09-11      2007-10-13\n",
              "10     2008-05-28  24.871528  0.128472   2008    2008-08-30      2008-10-02\n",
              "11     2008-06-22  25.436806  0.436806   2008    2008-08-30      2008-10-02\n",
              "12     2008-07-31  24.843056  0.156944   2008    2008-08-30      2008-10-02\n",
              "13     2008-08-03  25.003472  0.003472   2008    2008-08-30      2008-10-02\n",
              "14     2008-09-05  24.927083  0.072917   2008    2008-08-30      2008-10-02\n",
              "15     2009-06-16  24.734259  0.265741   2009    2009-08-19      2009-09-21\n",
              "16     2009-07-14  24.928241  0.071759   2009    2009-08-19      2009-09-21\n",
              "17     2009-07-18  24.752546  0.247454   2009    2009-08-19      2009-09-21\n",
              "18     2009-08-22  25.072917  0.072917   2009    2009-08-19      2009-09-21\n",
              "19     2009-08-26  25.293056  0.293056   2009    2009-08-19      2009-09-21\n",
              "20     2010-06-09  24.710880  0.289120   2010    2010-08-09      2010-09-10\n",
              "21     2010-06-14  25.034954  0.034954   2010    2010-08-09      2010-09-10\n",
              "22     2010-07-20  24.790509  0.209491   2010    2010-08-09      2010-09-10\n",
              "23     2010-08-03  25.071759  0.071759   2010    2010-08-09      2010-09-10\n",
              "24     2010-08-27  24.807407  0.192593   2010    2010-08-09      2010-09-10\n",
              "25     2011-06-18  24.870602  0.129398   2011    2011-07-29      2011-08-31\n",
              "26     2011-06-22  24.728472  0.271528   2011    2011-07-29      2011-08-31\n",
              "27     2011-06-23  25.240046  0.240046   2011    2011-07-29      2011-08-31\n",
              "28     2011-07-12  24.997685  0.002315   2011    2011-07-29      2011-08-31\n",
              "29     2011-08-19  24.984491  0.015509   2011    2011-07-29      2011-08-31\n",
              "30     2012-06-22  25.082176  0.082176   2012    2012-07-18      2012-08-19\n",
              "31     2012-07-20  24.998843  0.001157   2012    2012-07-18      2012-08-19\n",
              "32     2012-07-29  24.929861  0.070139   2012    2012-07-18      2012-08-19\n",
              "33     2012-08-01  24.819907  0.180093   2012    2012-07-18      2012-08-19\n",
              "34     2012-08-26  25.008565  0.008565   2012    2012-07-18      2012-08-19\n",
              "35     2013-06-16  24.536343  0.463657   2013    2013-07-07      2013-08-08\n",
              "36     2013-07-08  24.628241  0.371759   2013    2013-07-07      2013-08-08\n",
              "37     2013-08-10  24.430787  0.569213   2013    2013-07-07      2013-08-08\n",
              "38     2013-08-13  24.819907  0.180093   2013    2013-07-07      2013-08-08\n",
              "39     2013-08-19  25.269907  0.269907   2013    2013-07-07      2013-08-08\n",
              "40     2014-06-09  24.827546  0.172454   2014    2014-06-26      2014-07-29\n",
              "41     2014-06-12  25.018519  0.018519   2014    2014-06-26      2014-07-29\n",
              "42     2014-07-20  25.000463  0.000463   2014    2014-06-26      2014-07-29\n",
              "43     2014-07-21  25.356250  0.356250   2014    2014-06-26      2014-07-29\n",
              "44     2014-08-11  25.358102  0.358102   2014    2014-06-26      2014-07-29\n",
              "45     2015-06-13  24.842361  0.157639   2015    2015-06-16      2015-07-18\n",
              "46     2015-07-05  24.869676  0.130324   2015    2015-06-16      2015-07-18\n",
              "47     2015-07-16  24.886574  0.113426   2015    2015-06-16      2015-07-18\n",
              "48     2015-08-03  24.852083  0.147917   2015    2015-06-16      2015-07-18\n",
              "49     2015-08-28  24.836111  0.163889   2015    2015-06-16      2015-07-18\n",
              "50     2016-06-22  25.046991  0.046991   2016    2016-06-04      2016-07-07\n",
              "51     2016-07-01  25.271759  0.271759   2016    2016-06-04      2016-07-07\n",
              "52     2016-07-11  25.158102  0.158102   2016    2016-06-04      2016-07-07\n",
              "53     2016-07-25  24.939815  0.060185   2016    2016-06-04      2016-07-07\n",
              "54     2016-07-30  25.048380  0.048380   2016    2016-06-04      2016-07-07"
            ]
          },
          "metadata": {
            "tags": []
          },
          "execution_count": 356
        }
      ]
    },
    {
      "cell_type": "code",
      "metadata": {
        "id": "0lCIXNKU0Jw9",
        "colab_type": "code",
        "colab": {
          "base_uri": "https://localhost:8080/",
          "height": 802
        },
        "outputId": "7b4229de-7718-4c00-cc3a-d1b776888f69"
      },
      "source": [
        "df_match = df_col_merged[df_col_merged['Formatted Date'].between(df_col_merged['Mulai Ramadan'], df_col_merged['Selesai Ramadan'], inclusive=False)].copy()\n",
        "df_match"
      ],
      "execution_count": 67,
      "outputs": [
        {
          "output_type": "execute_result",
          "data": {
            "text/html": [
              "<div>\n",
              "<style scoped>\n",
              "    .dataframe tbody tr th:only-of-type {\n",
              "        vertical-align: middle;\n",
              "    }\n",
              "\n",
              "    .dataframe tbody tr th {\n",
              "        vertical-align: top;\n",
              "    }\n",
              "\n",
              "    .dataframe thead th {\n",
              "        text-align: right;\n",
              "    }\n",
              "</style>\n",
              "<table border=\"1\" class=\"dataframe\">\n",
              "  <thead>\n",
              "    <tr style=\"text-align: right;\">\n",
              "      <th></th>\n",
              "      <th>Formatted Date</th>\n",
              "      <th>AVG</th>\n",
              "      <th>Selisih</th>\n",
              "      <th>Tahun</th>\n",
              "      <th>Mulai Ramadan</th>\n",
              "      <th>Selesai Ramadan</th>\n",
              "    </tr>\n",
              "  </thead>\n",
              "  <tbody>\n",
              "    <tr>\n",
              "      <th>28</th>\n",
              "      <td>2008-09-04</td>\n",
              "      <td>24.377546</td>\n",
              "      <td>0.622454</td>\n",
              "      <td>2008</td>\n",
              "      <td>2008-08-29</td>\n",
              "      <td>2008-10-03</td>\n",
              "    </tr>\n",
              "    <tr>\n",
              "      <th>29</th>\n",
              "      <td>2008-09-05</td>\n",
              "      <td>24.927083</td>\n",
              "      <td>0.072917</td>\n",
              "      <td>2008</td>\n",
              "      <td>2008-08-29</td>\n",
              "      <td>2008-10-03</td>\n",
              "    </tr>\n",
              "    <tr>\n",
              "      <th>37</th>\n",
              "      <td>2009-08-22</td>\n",
              "      <td>25.072917</td>\n",
              "      <td>0.072917</td>\n",
              "      <td>2009</td>\n",
              "      <td>2009-08-18</td>\n",
              "      <td>2009-09-22</td>\n",
              "    </tr>\n",
              "    <tr>\n",
              "      <th>38</th>\n",
              "      <td>2009-08-26</td>\n",
              "      <td>25.293056</td>\n",
              "      <td>0.293056</td>\n",
              "      <td>2009</td>\n",
              "      <td>2009-08-18</td>\n",
              "      <td>2009-09-22</td>\n",
              "    </tr>\n",
              "    <tr>\n",
              "      <th>39</th>\n",
              "      <td>2009-09-04</td>\n",
              "      <td>25.565741</td>\n",
              "      <td>0.565741</td>\n",
              "      <td>2009</td>\n",
              "      <td>2009-08-18</td>\n",
              "      <td>2009-09-22</td>\n",
              "    </tr>\n",
              "    <tr>\n",
              "      <th>48</th>\n",
              "      <td>2010-08-16</td>\n",
              "      <td>24.498611</td>\n",
              "      <td>0.501389</td>\n",
              "      <td>2010</td>\n",
              "      <td>2010-08-08</td>\n",
              "      <td>2010-09-11</td>\n",
              "    </tr>\n",
              "    <tr>\n",
              "      <th>49</th>\n",
              "      <td>2010-08-27</td>\n",
              "      <td>24.807407</td>\n",
              "      <td>0.192593</td>\n",
              "      <td>2010</td>\n",
              "      <td>2010-08-08</td>\n",
              "      <td>2010-09-11</td>\n",
              "    </tr>\n",
              "    <tr>\n",
              "      <th>56</th>\n",
              "      <td>2011-08-07</td>\n",
              "      <td>25.643981</td>\n",
              "      <td>0.643981</td>\n",
              "      <td>2011</td>\n",
              "      <td>2011-07-28</td>\n",
              "      <td>2011-09-01</td>\n",
              "    </tr>\n",
              "    <tr>\n",
              "      <th>57</th>\n",
              "      <td>2011-08-19</td>\n",
              "      <td>24.984491</td>\n",
              "      <td>0.015509</td>\n",
              "      <td>2011</td>\n",
              "      <td>2011-07-28</td>\n",
              "      <td>2011-09-01</td>\n",
              "    </tr>\n",
              "    <tr>\n",
              "      <th>65</th>\n",
              "      <td>2012-07-20</td>\n",
              "      <td>24.998843</td>\n",
              "      <td>0.001157</td>\n",
              "      <td>2012</td>\n",
              "      <td>2012-07-17</td>\n",
              "      <td>2012-08-20</td>\n",
              "    </tr>\n",
              "    <tr>\n",
              "      <th>66</th>\n",
              "      <td>2012-07-29</td>\n",
              "      <td>24.929861</td>\n",
              "      <td>0.070139</td>\n",
              "      <td>2012</td>\n",
              "      <td>2012-07-17</td>\n",
              "      <td>2012-08-20</td>\n",
              "    </tr>\n",
              "    <tr>\n",
              "      <th>67</th>\n",
              "      <td>2012-08-01</td>\n",
              "      <td>24.819907</td>\n",
              "      <td>0.180093</td>\n",
              "      <td>2012</td>\n",
              "      <td>2012-07-17</td>\n",
              "      <td>2012-08-20</td>\n",
              "    </tr>\n",
              "    <tr>\n",
              "      <th>72</th>\n",
              "      <td>2013-07-07</td>\n",
              "      <td>24.403241</td>\n",
              "      <td>0.596759</td>\n",
              "      <td>2013</td>\n",
              "      <td>2013-07-06</td>\n",
              "      <td>2013-08-09</td>\n",
              "    </tr>\n",
              "    <tr>\n",
              "      <th>73</th>\n",
              "      <td>2013-07-08</td>\n",
              "      <td>24.628241</td>\n",
              "      <td>0.371759</td>\n",
              "      <td>2013</td>\n",
              "      <td>2013-07-06</td>\n",
              "      <td>2013-08-09</td>\n",
              "    </tr>\n",
              "    <tr>\n",
              "      <th>74</th>\n",
              "      <td>2013-07-26</td>\n",
              "      <td>24.232870</td>\n",
              "      <td>0.767130</td>\n",
              "      <td>2013</td>\n",
              "      <td>2013-07-06</td>\n",
              "      <td>2013-08-09</td>\n",
              "    </tr>\n",
              "    <tr>\n",
              "      <th>82</th>\n",
              "      <td>2014-07-06</td>\n",
              "      <td>24.353472</td>\n",
              "      <td>0.646528</td>\n",
              "      <td>2014</td>\n",
              "      <td>2014-06-25</td>\n",
              "      <td>2014-07-30</td>\n",
              "    </tr>\n",
              "    <tr>\n",
              "      <th>83</th>\n",
              "      <td>2014-07-07</td>\n",
              "      <td>25.666204</td>\n",
              "      <td>0.666204</td>\n",
              "      <td>2014</td>\n",
              "      <td>2014-06-25</td>\n",
              "      <td>2014-07-30</td>\n",
              "    </tr>\n",
              "    <tr>\n",
              "      <th>84</th>\n",
              "      <td>2014-07-20</td>\n",
              "      <td>25.000463</td>\n",
              "      <td>0.000463</td>\n",
              "      <td>2014</td>\n",
              "      <td>2014-06-25</td>\n",
              "      <td>2014-07-30</td>\n",
              "    </tr>\n",
              "    <tr>\n",
              "      <th>85</th>\n",
              "      <td>2014-07-21</td>\n",
              "      <td>25.356250</td>\n",
              "      <td>0.356250</td>\n",
              "      <td>2014</td>\n",
              "      <td>2014-06-25</td>\n",
              "      <td>2014-07-30</td>\n",
              "    </tr>\n",
              "    <tr>\n",
              "      <th>93</th>\n",
              "      <td>2015-07-05</td>\n",
              "      <td>24.869676</td>\n",
              "      <td>0.130324</td>\n",
              "      <td>2015</td>\n",
              "      <td>2015-06-15</td>\n",
              "      <td>2015-07-19</td>\n",
              "    </tr>\n",
              "    <tr>\n",
              "      <th>94</th>\n",
              "      <td>2015-07-16</td>\n",
              "      <td>24.886574</td>\n",
              "      <td>0.113426</td>\n",
              "      <td>2015</td>\n",
              "      <td>2015-06-15</td>\n",
              "      <td>2015-07-19</td>\n",
              "    </tr>\n",
              "    <tr>\n",
              "      <th>100</th>\n",
              "      <td>2016-06-22</td>\n",
              "      <td>25.046991</td>\n",
              "      <td>0.046991</td>\n",
              "      <td>2016</td>\n",
              "      <td>2016-06-03</td>\n",
              "      <td>2016-07-08</td>\n",
              "    </tr>\n",
              "    <tr>\n",
              "      <th>101</th>\n",
              "      <td>2016-07-01</td>\n",
              "      <td>25.271759</td>\n",
              "      <td>0.271759</td>\n",
              "      <td>2016</td>\n",
              "      <td>2016-06-03</td>\n",
              "      <td>2016-07-08</td>\n",
              "    </tr>\n",
              "    <tr>\n",
              "      <th>102</th>\n",
              "      <td>2016-07-02</td>\n",
              "      <td>25.878472</td>\n",
              "      <td>0.878472</td>\n",
              "      <td>2016</td>\n",
              "      <td>2016-06-03</td>\n",
              "      <td>2016-07-08</td>\n",
              "    </tr>\n",
              "  </tbody>\n",
              "</table>\n",
              "</div>"
            ],
            "text/plain": [
              "    Formatted Date        AVG   Selisih  Tahun Mulai Ramadan Selesai Ramadan\n",
              "28      2008-09-04  24.377546  0.622454   2008    2008-08-29      2008-10-03\n",
              "29      2008-09-05  24.927083  0.072917   2008    2008-08-29      2008-10-03\n",
              "37      2009-08-22  25.072917  0.072917   2009    2009-08-18      2009-09-22\n",
              "38      2009-08-26  25.293056  0.293056   2009    2009-08-18      2009-09-22\n",
              "39      2009-09-04  25.565741  0.565741   2009    2009-08-18      2009-09-22\n",
              "48      2010-08-16  24.498611  0.501389   2010    2010-08-08      2010-09-11\n",
              "49      2010-08-27  24.807407  0.192593   2010    2010-08-08      2010-09-11\n",
              "56      2011-08-07  25.643981  0.643981   2011    2011-07-28      2011-09-01\n",
              "57      2011-08-19  24.984491  0.015509   2011    2011-07-28      2011-09-01\n",
              "65      2012-07-20  24.998843  0.001157   2012    2012-07-17      2012-08-20\n",
              "66      2012-07-29  24.929861  0.070139   2012    2012-07-17      2012-08-20\n",
              "67      2012-08-01  24.819907  0.180093   2012    2012-07-17      2012-08-20\n",
              "72      2013-07-07  24.403241  0.596759   2013    2013-07-06      2013-08-09\n",
              "73      2013-07-08  24.628241  0.371759   2013    2013-07-06      2013-08-09\n",
              "74      2013-07-26  24.232870  0.767130   2013    2013-07-06      2013-08-09\n",
              "82      2014-07-06  24.353472  0.646528   2014    2014-06-25      2014-07-30\n",
              "83      2014-07-07  25.666204  0.666204   2014    2014-06-25      2014-07-30\n",
              "84      2014-07-20  25.000463  0.000463   2014    2014-06-25      2014-07-30\n",
              "85      2014-07-21  25.356250  0.356250   2014    2014-06-25      2014-07-30\n",
              "93      2015-07-05  24.869676  0.130324   2015    2015-06-15      2015-07-19\n",
              "94      2015-07-16  24.886574  0.113426   2015    2015-06-15      2015-07-19\n",
              "100     2016-06-22  25.046991  0.046991   2016    2016-06-03      2016-07-08\n",
              "101     2016-07-01  25.271759  0.271759   2016    2016-06-03      2016-07-08\n",
              "102     2016-07-02  25.878472  0.878472   2016    2016-06-03      2016-07-08"
            ]
          },
          "metadata": {
            "tags": []
          },
          "execution_count": 67
        }
      ]
    },
    {
      "cell_type": "code",
      "metadata": {
        "id": "WsEOG-lMttj-",
        "colab_type": "code",
        "colab": {}
      },
      "source": [
        ""
      ],
      "execution_count": 0,
      "outputs": []
    },
    {
      "cell_type": "code",
      "metadata": {
        "id": "Kwqd6t9Z8R0Z",
        "colab_type": "code",
        "colab": {
          "base_uri": "https://localhost:8080/",
          "height": 220
        },
        "outputId": "5645f530-2842-41bd-f2e5-02fcdd620e50"
      },
      "source": [
        "df_match.groupby(df_match[\"Tahun\"]).size()"
      ],
      "execution_count": 68,
      "outputs": [
        {
          "output_type": "execute_result",
          "data": {
            "text/plain": [
              "Tahun\n",
              "2008    2\n",
              "2009    3\n",
              "2010    2\n",
              "2011    2\n",
              "2012    3\n",
              "2013    3\n",
              "2014    4\n",
              "2015    2\n",
              "2016    3\n",
              "dtype: int64"
            ]
          },
          "metadata": {
            "tags": []
          },
          "execution_count": 68
        }
      ]
    },
    {
      "cell_type": "code",
      "metadata": {
        "id": "GHV-DB0gqwFT",
        "colab_type": "code",
        "colab": {}
      },
      "source": [
        "df_match_temp = df_match.groupby(df_match[\"Tahun\"]).size().reset_index().copy()\n",
        "df_match_temp = df_match_temp.applymap(str)"
      ],
      "execution_count": 0,
      "outputs": []
    },
    {
      "cell_type": "code",
      "metadata": {
        "id": "wnWtfX3itsBa",
        "colab_type": "code",
        "colab": {
          "base_uri": "https://localhost:8080/",
          "height": 54
        },
        "outputId": "28bea585-9ed0-45a9-fc55-d04d128c8a74"
      },
      "source": [
        "aa = str(df_match_temp['Tahun'].tolist())\n",
        "print(aa)\n",
        "bb = ','.join([str(i) for i in df_match_temp['Tahun'].tolist()])\n",
        "print(bb)"
      ],
      "execution_count": 94,
      "outputs": [
        {
          "output_type": "stream",
          "text": [
            "[2008, 2009, 2010, 2011, 2012, 2013, 2014, 2015, 2016]\n",
            "2008,2009,2010,2011,2012,2013,2014,2015,2016\n"
          ],
          "name": "stdout"
        }
      ]
    },
    {
      "cell_type": "code",
      "metadata": {
        "id": "vY1Nxn3Otwoz",
        "colab_type": "code",
        "colab": {}
      },
      "source": [
        ""
      ],
      "execution_count": 0,
      "outputs": []
    },
    {
      "cell_type": "code",
      "metadata": {
        "id": "Qi2h1uZAvoo3",
        "colab_type": "code",
        "colab": {
          "base_uri": "https://localhost:8080/",
          "height": 35
        },
        "outputId": "57f092ee-4337-4d58-8987-687aa8fe2a71"
      },
      "source": [
        "# Hitung couter_Match_In_Range (cM) dari kondisi pada df3 hanya diambil 1 terdekat (firt only)\n",
        "cM = len(df_match.groupby(df_match[\"Tahun\"]).size().index)\n",
        "cM"
      ],
      "execution_count": 359,
      "outputs": [
        {
          "output_type": "execute_result",
          "data": {
            "text/plain": [
              "9"
            ]
          },
          "metadata": {
            "tags": []
          },
          "execution_count": 359
        }
      ]
    },
    {
      "cell_type": "code",
      "metadata": {
        "id": "XbwZPz2pr-FO",
        "colab_type": "code",
        "colab": {
          "base_uri": "https://localhost:8080/",
          "height": 54
        },
        "outputId": "61919df9-02bf-473e-f25e-08cfbafc2c30"
      },
      "source": [
        "# Hitung Akurasi (dengan Range Accuracy (Racc))\n",
        "Byk_tahun = len(df_ramadan.index)/const_n_first\n",
        "print(Byk_tahun)\n",
        "Racc = cM/Byk_tahun\n",
        "print('Akurasi Range (Racc) = ',Racc)"
      ],
      "execution_count": 360,
      "outputs": [
        {
          "output_type": "stream",
          "text": [
            "11.0\n",
            "Akurasi Range (Racc) =  0.8181818181818182\n"
          ],
          "name": "stdout"
        }
      ]
    },
    {
      "cell_type": "code",
      "metadata": {
        "id": "Y2wz2TBaqV37",
        "colab_type": "code",
        "colab": {}
      },
      "source": [
        "\n"
      ],
      "execution_count": 0,
      "outputs": []
    },
    {
      "cell_type": "code",
      "metadata": {
        "id": "dYo4qrzgrwij",
        "colab_type": "code",
        "colab": {}
      },
      "source": [
        "# ========= Start Untuk Pengujian Otomatis dengan nilai Parameter Dinamis =========\n",
        "# Parameter yg diuji:\n",
        "#>> Dari Dataset Weather (diuji satu demi satu fitur yang ada)\n",
        "## ['Temperature (C)', 'Apparent Temperature (C)', 'Humidity', 'Wind Speed (km/h)', \n",
        "## 'Wind Bearing (degrees)', 'Visibility (km)', 'Pressure (millibars)']\n",
        "\n",
        "#>> Dari parameter iqra' alg.\n",
        "## suhu ideal bumi (t) = [15;40] , mengadopsi suhu ruangan 15-40 derajat celcius, misal dalam increment [0.01;1] \n",
        "## ketika Get date yang memiliki nilai minimal \"Selisih\" tiap tahun, diambil berapa terdekat (const_n_first), \n",
        "   # misal const_n_first = [1;3] or [5;10] or [1;365]\n",
        "## parameter pengurang dan penambah interval Ramadan menjadi lebih lebar, yaitu pada interval [vRMin-abs(Ev); vRMax+abs(Ev)].\n",
        "   # misal Ev = [0;3] or [0;5]"
      ],
      "execution_count": 0,
      "outputs": []
    },
    {
      "cell_type": "code",
      "metadata": {
        "id": "2Sogv7COfJ__",
        "colab_type": "code",
        "colab": {}
      },
      "source": [
        ""
      ],
      "execution_count": 0,
      "outputs": []
    },
    {
      "cell_type": "code",
      "metadata": {
        "id": "-juyH4EWfZ1f",
        "colab_type": "code",
        "colab": {
          "base_uri": "https://localhost:8080/",
          "height": 55
        },
        "outputId": "be18d4c4-9f76-4d3a-af99-ba6b53d9bc0e"
      },
      "source": [
        "# menampilkan nama kolom pada df (all fitur)\n",
        "print(df_load_data.columns.values.tolist())"
      ],
      "execution_count": 6,
      "outputs": [
        {
          "output_type": "stream",
          "text": [
            "['Formatted Date', 'Summary', 'Precip Type', 'Temperature (C)', 'Apparent Temperature (C)', 'Humidity', 'Wind Speed (km/h)', 'Wind Bearing (degrees)', 'Visibility (km)', 'Loud Cover', 'Pressure (millibars)', 'Daily Summary']\n"
          ],
          "name": "stdout"
        }
      ]
    },
    {
      "cell_type": "code",
      "metadata": {
        "id": "JkaJ2dSDfaZW",
        "colab_type": "code",
        "colab": {}
      },
      "source": [
        "#fitur terpilih\n",
        "nama_fitur = ['Temperature (C)', 'Apparent Temperature (C)', 'Humidity', 'Wind Speed (km/h)','Wind Bearing (degrees)', 'Visibility (km)', 'Pressure (millibars)']"
      ],
      "execution_count": 0,
      "outputs": []
    },
    {
      "cell_type": "code",
      "metadata": {
        "id": "P9dyoyqZfa0O",
        "colab_type": "code",
        "colab": {
          "base_uri": "https://localhost:8080/",
          "height": 35
        },
        "outputId": "a5943505-1c6a-4f24-d377-6b8c7a9263f6"
      },
      "source": [
        "len(nama_fitur)"
      ],
      "execution_count": 14,
      "outputs": [
        {
          "output_type": "execute_result",
          "data": {
            "text/plain": [
              "7"
            ]
          },
          "metadata": {
            "tags": []
          },
          "execution_count": 14
        }
      ]
    },
    {
      "cell_type": "code",
      "metadata": {
        "id": "Z0snOnMSgPCq",
        "colab_type": "code",
        "colab": {
          "base_uri": "https://localhost:8080/",
          "height": 146
        },
        "outputId": "4076d89c-0360-4738-c97b-e5c6fb0a854b"
      },
      "source": [
        "for hh in range(len(nama_fitur)): # utk loop fitur di dataset Weather ter\n",
        "  print(nama_fitur[hh])\n"
      ],
      "execution_count": 16,
      "outputs": [
        {
          "output_type": "stream",
          "text": [
            "Temperature (C)\n",
            "Apparent Temperature (C)\n",
            "Humidity\n",
            "Wind Speed (km/h)\n",
            "Wind Bearing (degrees)\n",
            "Visibility (km)\n",
            "Pressure (millibars)\n"
          ],
          "name": "stdout"
        }
      ]
    },
    {
      "cell_type": "code",
      "metadata": {
        "id": "QO6VMBJAgZ0J",
        "colab_type": "code",
        "colab": {}
      },
      "source": [
        ""
      ],
      "execution_count": 0,
      "outputs": []
    },
    {
      "cell_type": "code",
      "metadata": {
        "id": "Y6b55TpVgPT5",
        "colab_type": "code",
        "colab": {}
      },
      "source": [
        ""
      ],
      "execution_count": 0,
      "outputs": []
    },
    {
      "cell_type": "code",
      "metadata": {
        "id": "WvMvyS6ZqXkp",
        "colab_type": "code",
        "colab": {
          "base_uri": "https://localhost:8080/",
          "height": 442
        },
        "outputId": "fd6f2daf-7dc3-4d8b-d3a2-6d7c4d7c7a2b"
      },
      "source": [
        "# ========Skema Pengujian Stategis ====================\n",
        "\n",
        "# load dataset\n",
        "import pandas as pd\n",
        "import numpy as np\n",
        "import datetime\n",
        "# load data as dataframe (df)\n",
        "#df_load_data = pd.read_csv('./dataset/weatherHistory.csv')\n",
        "#df_ramadan = pd.read_csv('./dataset/ramadanDate.csv')\n",
        "\n",
        "#fitur terpilih\n",
        "nama_fitur = ['Temperature (C)', 'Apparent Temperature (C)', 'Humidity', 'Wind Speed (km/h)','Wind Bearing (degrees)', 'Visibility (km)', 'Pressure (millibars)']\n",
        "\n",
        "df_hasil_akhir = pd.DataFrame(np.empty((0, 7))) #creates a new dataframe that's empty\n",
        "df_hasil_akhir.columns=['nama fitur', 'suhu bumi (t)', 'const_n_first', 'Ev','Racc','Time','tahun true']\n",
        "\n",
        "ts = datetime.datetime.now()\n",
        "#for hh in range(len(nama_fitur)): # utk loop fitur di dataset Weather ter\n",
        "for hh in range(1): # utk loop fitur di dataset Weather ter\n",
        "  \n",
        "  #for ii in range(15,40): # utk loop parameter suhu ideal bumi (t)=[15;40]\n",
        "  #for ii in np.arange(15, 40.01, 0.01): # utk loop parameter suhu ideal bumi (t)=[15;40] dgn incrment 0.01\n",
        "  for ii in np.arange(10, 41, 1): # utk loop parameter suhu ideal bumi (t)=[10;40] dgn incrment 1\n",
        "  #for ii in range(1): # utk loop parameter suhu ideal bumi (t)=[15;40] dgn incrment 0.01\n",
        "    cons_t = ii\n",
        "    #for jj in range(1): # utk loop parameter const_n_first\n",
        "    for jj in np.arange(1, 21, 1): # utk loop parameter const_n_first= [1;15]\n",
        "      const_n_first = jj\n",
        "      for kk in range(4): # utk loop parameter Ev = [0;3]\n",
        "        const_Ev = kk\n",
        "\n",
        "        ts2 = datetime.datetime.now()\n",
        "        #start To Do\n",
        "        #-----------       \n",
        "\n",
        "        df_load_data = pd.read_csv('./dataset/weatherHistory.csv')\n",
        "\n",
        "        # salin hasil penghitungan Mean ke df2\n",
        "        df2 = df_load_data[nama_fitur[hh]].groupby(df_load_data[\"Formatted Date\"].str[:10]).mean().reset_index(name='AVG').copy()\n",
        "\n",
        "        # hitung hasil absolute selisih dari nilai Mean (AVG) dikurangi cons_t\n",
        "        depth=df2['AVG']-cons_t\n",
        "        df2.insert(2,'Selisih',depth.abs())\n",
        "\n",
        "        # Convert Formatted Date ke datetime\n",
        "        df2['Formatted Date'] =  pd.to_datetime(df2['Formatted Date'])\n",
        "        #df2[\"Formatted Date\"].dt.year\n",
        "\n",
        "        # Get date yang memiliki nilai minimal \"Selisih\" tiap tahun, diambil berapa terdekat (const_n_first)\n",
        "        #const_n_first = 5\n",
        "        df3 = df2.sort_values(\"Selisih\").groupby(df2[\"Formatted Date\"].dt.year, as_index=False).head(const_n_first).sort_values(\"Formatted Date\").reset_index(drop=True, inplace=False).copy()\n",
        "\n",
        "        # load data as dataframe (df)\n",
        "        df_ramadan = pd.read_csv('./dataset/ramadanDate.csv')\n",
        "\n",
        "        #Convert kolom \"Mulai Ramadan\" dan \"Selesai Ramadan\" ke datetime\n",
        "        df_ramadan['Mulai Ramadan']= pd.to_datetime(df_ramadan['Mulai Ramadan'])\n",
        "        df_ramadan['Selesai Ramadan']= pd.to_datetime(df_ramadan['Selesai Ramadan'])    \n",
        "\n",
        "        # Mengubah interval Ramadan menjadi lebih lebar, yaitu pada interval [vRMin-abs(Ev); vRMax+abs(Ev)]. \n",
        "        # Misal Ev diset dengan nilai 0 atau maks dengan nilai 5 (hari).\n",
        "        # const_Ev = 2\n",
        "        df_ramadan['Mulai Ramadan'] = df_ramadan['Mulai Ramadan'] - pd.Timedelta(const_Ev, unit='d')\n",
        "        df_ramadan['Selesai Ramadan'] = df_ramadan['Selesai Ramadan'] + pd.Timedelta(const_Ev, unit='d')\n",
        "\n",
        "\n",
        "        # df_ramadan padding kebawah sebanyak const_n_first, agar ketika di merger sukses  \n",
        "        # .reset_index(drop=True, inplace=False).copy()\n",
        "        df_ramadan = pd.concat([df_ramadan]*const_n_first).sort_index().reset_index(drop=True, inplace=False)\n",
        "\n",
        "        # Tampilkan hasil merger df2 dan df_ramadan\n",
        "        df_col_merged = pd.concat([df3, df_ramadan], axis=1)\n",
        "\n",
        "        df_match = df_col_merged[df_col_merged['Formatted Date'].between(df_col_merged['Mulai Ramadan'], df_col_merged['Selesai Ramadan'], inclusive=False)].copy()\n",
        "\n",
        "        # df_match.groupby(df_match[\"Tahun\"]).size()\n",
        "        df_match_temp = df_match.groupby(df_match[\"Tahun\"]).size().reset_index().copy()\n",
        "        df_match_temp = df_match_temp.applymap(str)\n",
        "        list_tahun_true = ','.join([str(i) for i in df_match_temp['Tahun'].tolist()])\n",
        "\n",
        "        # Hitung couter_Match_In_Range (cM) dari kondisi pada df3 hanya diambil 1 terdekat (firt only)\n",
        "        cM = len(df_match.groupby(df_match[\"Tahun\"]).size().index)\n",
        "\n",
        "        # Hitung Akurasi (dengan Range Accuracy (Racc))\n",
        "        Byk_tahun = len(df_ramadan.index)/const_n_first\n",
        "        #print(Byk_tahun)\n",
        "        Racc = cM/Byk_tahun\n",
        "        #print('Akurasi Range (Racc) = ',Racc)\n",
        "\n",
        "\n",
        "\n",
        "        #---------------\n",
        "        #end To Do\n",
        "        tf2 = datetime.datetime.now()\n",
        "        te2 = tf2 - ts2\n",
        "\n",
        "        #print('.')\n",
        "        #df_hasil_akhir['nama fitur'].append(str(nama_fitur[hh]), ignore_index = True)\n",
        "        df_hasil_akhir = df_hasil_akhir.append({'nama fitur': nama_fitur[hh],'suhu bumi (t)': cons_t,'const_n_first': const_n_first,'Ev': const_Ev,'Racc': Racc,'Time': te2, 'tahun true': list_tahun_true}, ignore_index=True)\n",
        "\n",
        "        #pd.concat([df_hasil_akhir, df_temp_hasil], axis=0)\n",
        "        #df_hasil_akhir = df_hasil_akhir.append(v_Racc_new, ignore_index = True) # ignoring index is optional\n",
        "\n",
        "tf = datetime.datetime.now()\n",
        "te = tf - ts\n",
        "print('Waktu keseluruhan = ',te)\n",
        "\n",
        "df_hasil_akhir\n"
      ],
      "execution_count": 50,
      "outputs": [
        {
          "output_type": "stream",
          "text": [
            "Waktu keseluruhan =  2:52:19.818314\n"
          ],
          "name": "stdout"
        },
        {
          "output_type": "execute_result",
          "data": {
            "text/html": [
              "<div>\n",
              "<style scoped>\n",
              "    .dataframe tbody tr th:only-of-type {\n",
              "        vertical-align: middle;\n",
              "    }\n",
              "\n",
              "    .dataframe tbody tr th {\n",
              "        vertical-align: top;\n",
              "    }\n",
              "\n",
              "    .dataframe thead th {\n",
              "        text-align: right;\n",
              "    }\n",
              "</style>\n",
              "<table border=\"1\" class=\"dataframe\">\n",
              "  <thead>\n",
              "    <tr style=\"text-align: right;\">\n",
              "      <th></th>\n",
              "      <th>nama fitur</th>\n",
              "      <th>suhu bumi (t)</th>\n",
              "      <th>const_n_first</th>\n",
              "      <th>Ev</th>\n",
              "      <th>Racc</th>\n",
              "      <th>Time</th>\n",
              "    </tr>\n",
              "  </thead>\n",
              "  <tbody>\n",
              "    <tr>\n",
              "      <th>0</th>\n",
              "      <td>Temperature (C)</td>\n",
              "      <td>15.0</td>\n",
              "      <td>1.0</td>\n",
              "      <td>0.0</td>\n",
              "      <td>0.090909</td>\n",
              "      <td>00:00:01.553494</td>\n",
              "    </tr>\n",
              "    <tr>\n",
              "      <th>1</th>\n",
              "      <td>Temperature (C)</td>\n",
              "      <td>15.0</td>\n",
              "      <td>1.0</td>\n",
              "      <td>1.0</td>\n",
              "      <td>0.090909</td>\n",
              "      <td>00:00:00.374777</td>\n",
              "    </tr>\n",
              "    <tr>\n",
              "      <th>2</th>\n",
              "      <td>Temperature (C)</td>\n",
              "      <td>15.0</td>\n",
              "      <td>1.0</td>\n",
              "      <td>2.0</td>\n",
              "      <td>0.090909</td>\n",
              "      <td>00:00:00.359984</td>\n",
              "    </tr>\n",
              "    <tr>\n",
              "      <th>3</th>\n",
              "      <td>Temperature (C)</td>\n",
              "      <td>15.0</td>\n",
              "      <td>1.0</td>\n",
              "      <td>3.0</td>\n",
              "      <td>0.090909</td>\n",
              "      <td>00:00:00.351454</td>\n",
              "    </tr>\n",
              "    <tr>\n",
              "      <th>4</th>\n",
              "      <td>Temperature (C)</td>\n",
              "      <td>15.0</td>\n",
              "      <td>2.0</td>\n",
              "      <td>0.0</td>\n",
              "      <td>0.090909</td>\n",
              "      <td>00:00:00.359510</td>\n",
              "    </tr>\n",
              "    <tr>\n",
              "      <th>...</th>\n",
              "      <td>...</td>\n",
              "      <td>...</td>\n",
              "      <td>...</td>\n",
              "      <td>...</td>\n",
              "      <td>...</td>\n",
              "      <td>...</td>\n",
              "    </tr>\n",
              "    <tr>\n",
              "      <th>30007</th>\n",
              "      <td>Temperature (C)</td>\n",
              "      <td>40.0</td>\n",
              "      <td>2.0</td>\n",
              "      <td>3.0</td>\n",
              "      <td>0.454545</td>\n",
              "      <td>00:00:00.324364</td>\n",
              "    </tr>\n",
              "    <tr>\n",
              "      <th>30008</th>\n",
              "      <td>Temperature (C)</td>\n",
              "      <td>40.0</td>\n",
              "      <td>3.0</td>\n",
              "      <td>0.0</td>\n",
              "      <td>0.454545</td>\n",
              "      <td>00:00:00.338481</td>\n",
              "    </tr>\n",
              "    <tr>\n",
              "      <th>30009</th>\n",
              "      <td>Temperature (C)</td>\n",
              "      <td>40.0</td>\n",
              "      <td>3.0</td>\n",
              "      <td>1.0</td>\n",
              "      <td>0.454545</td>\n",
              "      <td>00:00:00.329305</td>\n",
              "    </tr>\n",
              "    <tr>\n",
              "      <th>30010</th>\n",
              "      <td>Temperature (C)</td>\n",
              "      <td>40.0</td>\n",
              "      <td>3.0</td>\n",
              "      <td>2.0</td>\n",
              "      <td>0.454545</td>\n",
              "      <td>00:00:00.326949</td>\n",
              "    </tr>\n",
              "    <tr>\n",
              "      <th>30011</th>\n",
              "      <td>Temperature (C)</td>\n",
              "      <td>40.0</td>\n",
              "      <td>3.0</td>\n",
              "      <td>3.0</td>\n",
              "      <td>0.545455</td>\n",
              "      <td>00:00:00.317721</td>\n",
              "    </tr>\n",
              "  </tbody>\n",
              "</table>\n",
              "<p>30012 rows × 6 columns</p>\n",
              "</div>"
            ],
            "text/plain": [
              "            nama fitur  suhu bumi (t)  ...      Racc            Time\n",
              "0      Temperature (C)           15.0  ...  0.090909 00:00:01.553494\n",
              "1      Temperature (C)           15.0  ...  0.090909 00:00:00.374777\n",
              "2      Temperature (C)           15.0  ...  0.090909 00:00:00.359984\n",
              "3      Temperature (C)           15.0  ...  0.090909 00:00:00.351454\n",
              "4      Temperature (C)           15.0  ...  0.090909 00:00:00.359510\n",
              "...                ...            ...  ...       ...             ...\n",
              "30007  Temperature (C)           40.0  ...  0.454545 00:00:00.324364\n",
              "30008  Temperature (C)           40.0  ...  0.454545 00:00:00.338481\n",
              "30009  Temperature (C)           40.0  ...  0.454545 00:00:00.329305\n",
              "30010  Temperature (C)           40.0  ...  0.454545 00:00:00.326949\n",
              "30011  Temperature (C)           40.0  ...  0.545455 00:00:00.317721\n",
              "\n",
              "[30012 rows x 6 columns]"
            ]
          },
          "metadata": {
            "tags": []
          },
          "execution_count": 50
        }
      ]
    },
    {
      "cell_type": "code",
      "metadata": {
        "id": "cLszU30jqYQy",
        "colab_type": "code",
        "colab": {}
      },
      "source": [
        "# Simpan df_hasil_akhir dalam file csv\n",
        "file_name = 'df_hasil_akhir.csv'\n",
        "df_hasil_akhir.to_csv(file_name, encoding='utf-8', index=False)"
      ],
      "execution_count": 0,
      "outputs": []
    },
    {
      "cell_type": "code",
      "metadata": {
        "id": "Bj685c4elQR-",
        "colab_type": "code",
        "colab": {}
      },
      "source": [
        "#!rm df_hasil_akhir"
      ],
      "execution_count": 0,
      "outputs": []
    },
    {
      "cell_type": "code",
      "metadata": {
        "id": "yGz84TpAk57i",
        "colab_type": "code",
        "colab": {
          "base_uri": "https://localhost:8080/",
          "height": 91
        },
        "outputId": "f1fae003-cd9d-42ed-e973-d6a915c203b0"
      },
      "source": [
        "!ls -l -a --block-size=K"
      ],
      "execution_count": 56,
      "outputs": [
        {
          "output_type": "stream",
          "text": [
            "total 4865K\n",
            "drwx------ 2 root root    4K May 20 06:01 dataset\n",
            "-rw------- 1 root root 2573K May 21 09:33 df_hasil_akhir.csv\n",
            "-rw------- 1 root root 2288K May 20 05:58 weather-dataset.zip\n"
          ],
          "name": "stdout"
        }
      ]
    },
    {
      "cell_type": "code",
      "metadata": {
        "id": "y61AbOhEk6lB",
        "colab_type": "code",
        "colab": {
          "base_uri": "https://localhost:8080/",
          "height": 35
        },
        "outputId": "25a25e44-0aec-4905-c1f8-68c12d0df2fd"
      },
      "source": [
        "# ========Skema Pengujian Stategis ke-2 ====================\n",
        "\n",
        "# load dataset\n",
        "import pandas as pd\n",
        "import numpy as np\n",
        "import datetime\n",
        "# load data as dataframe (df)\n",
        "#df_load_data = pd.read_csv('./dataset/weatherHistory.csv')\n",
        "#df_ramadan = pd.read_csv('./dataset/ramadanDate.csv')\n",
        "\n",
        "#fitur terpilih\n",
        "nama_fitur = ['Temperature (C)', 'Apparent Temperature (C)', 'Humidity', 'Wind Speed (km/h)','Wind Bearing (degrees)', 'Visibility (km)', 'Pressure (millibars)']\n",
        "\n",
        "df_hasil_akhir = pd.DataFrame(np.empty((0, 7))) #creates a new dataframe that's empty\n",
        "df_hasil_akhir.columns=['nama fitur', 'suhu bumi (t)', 'const_n_first', 'Ev','Racc','Time','tahun true']\n",
        "\n",
        "ts = datetime.datetime.now()\n",
        "#for hh in range(len(nama_fitur)): # utk loop fitur di dataset Weather ter\n",
        "for hh in range(2): # utk loop fitur di dataset Weather ter\n",
        "  \n",
        "  #for ii in range(15,40): # utk loop parameter suhu ideal bumi (t)=[15;40]\n",
        "  #for ii in np.arange(15, 40.01, 0.01): # utk loop parameter suhu ideal bumi (t)=[15;40] dgn incrment 0.01\n",
        "  for ii in np.arange(10, 41, 1): # utk loop parameter suhu ideal bumi (t)=[10;40] dgn incrment 1\n",
        "  #for ii in range(1): # utk loop parameter suhu ideal bumi (t)=[15;40] dgn incrment 0.01\n",
        "    cons_t = ii\n",
        "    #for jj in range(1): # utk loop parameter const_n_first\n",
        "    for jj in np.arange(1, 21, 1): # utk loop parameter const_n_first= [1;15]\n",
        "      const_n_first = jj\n",
        "      for kk in range(4): # utk loop parameter Ev = [0;3]\n",
        "        const_Ev = kk\n",
        "\n",
        "        ts2 = datetime.datetime.now()\n",
        "        #start To Do\n",
        "        #-----------       \n",
        "\n",
        "        df_load_data = pd.read_csv('./dataset/weatherHistory.csv')\n",
        "\n",
        "        # salin hasil penghitungan Mean ke df2\n",
        "        df2 = df_load_data[nama_fitur[hh]].groupby(df_load_data[\"Formatted Date\"].str[:10]).mean().reset_index(name='AVG').copy()\n",
        "\n",
        "        # hitung hasil absolute selisih dari nilai Mean (AVG) dikurangi cons_t\n",
        "        depth=df2['AVG']-cons_t\n",
        "        df2.insert(2,'Selisih',depth.abs())\n",
        "\n",
        "        # Convert Formatted Date ke datetime\n",
        "        df2['Formatted Date'] =  pd.to_datetime(df2['Formatted Date'])\n",
        "        #df2[\"Formatted Date\"].dt.year\n",
        "\n",
        "        # Get date yang memiliki nilai minimal \"Selisih\" tiap tahun, diambil berapa terdekat (const_n_first)\n",
        "        #const_n_first = 5\n",
        "        df3 = df2.sort_values(\"Selisih\").groupby(df2[\"Formatted Date\"].dt.year, as_index=False).head(const_n_first).sort_values(\"Formatted Date\").reset_index(drop=True, inplace=False).copy()\n",
        "\n",
        "        # load data as dataframe (df)\n",
        "        df_ramadan = pd.read_csv('./dataset/ramadanDate.csv')\n",
        "\n",
        "        #Convert kolom \"Mulai Ramadan\" dan \"Selesai Ramadan\" ke datetime\n",
        "        df_ramadan['Mulai Ramadan']= pd.to_datetime(df_ramadan['Mulai Ramadan'])\n",
        "        df_ramadan['Selesai Ramadan']= pd.to_datetime(df_ramadan['Selesai Ramadan'])    \n",
        "\n",
        "        # Mengubah interval Ramadan menjadi lebih lebar, yaitu pada interval [vRMin-abs(Ev); vRMax+abs(Ev)]. \n",
        "        # Misal Ev diset dengan nilai 0 atau maks dengan nilai 5 (hari).\n",
        "        # const_Ev = 2\n",
        "        df_ramadan['Mulai Ramadan'] = df_ramadan['Mulai Ramadan'] - pd.Timedelta(const_Ev, unit='d')\n",
        "        df_ramadan['Selesai Ramadan'] = df_ramadan['Selesai Ramadan'] + pd.Timedelta(const_Ev, unit='d')\n",
        "\n",
        "\n",
        "        # df_ramadan padding kebawah sebanyak const_n_first, agar ketika di merger sukses  \n",
        "        # .reset_index(drop=True, inplace=False).copy()\n",
        "        df_ramadan = pd.concat([df_ramadan]*const_n_first).sort_index().reset_index(drop=True, inplace=False)\n",
        "\n",
        "        # Tampilkan hasil merger df2 dan df_ramadan\n",
        "        df_col_merged = pd.concat([df3, df_ramadan], axis=1)\n",
        "\n",
        "        df_match = df_col_merged[df_col_merged['Formatted Date'].between(df_col_merged['Mulai Ramadan'], df_col_merged['Selesai Ramadan'], inclusive=False)].copy()\n",
        "\n",
        "        # df_match.groupby(df_match[\"Tahun\"]).size()\n",
        "        df_match_temp = df_match.groupby(df_match[\"Tahun\"]).size().reset_index().copy()\n",
        "        df_match_temp = df_match_temp.applymap(str)\n",
        "        list_tahun_true = ','.join([str(i) for i in df_match_temp['Tahun'].tolist()])\n",
        "\n",
        "        # Hitung couter_Match_In_Range (cM) dari kondisi pada df3 hanya diambil 1 terdekat (firt only)\n",
        "        cM = len(df_match.groupby(df_match[\"Tahun\"]).size().index)\n",
        "\n",
        "        # Hitung Akurasi (dengan Range Accuracy (Racc))\n",
        "        Byk_tahun = len(df_ramadan.index)/const_n_first\n",
        "        #print(Byk_tahun)\n",
        "        Racc = cM/Byk_tahun\n",
        "        #print('Akurasi Range (Racc) = ',Racc)\n",
        "\n",
        "\n",
        "\n",
        "        #---------------\n",
        "        #end To Do\n",
        "        tf2 = datetime.datetime.now()\n",
        "        te2 = tf2 - ts2\n",
        "\n",
        "        #print('.')\n",
        "        #df_hasil_akhir['nama fitur'].append(str(nama_fitur[hh]), ignore_index = True)\n",
        "        df_hasil_akhir = df_hasil_akhir.append({'nama fitur': nama_fitur[hh],'suhu bumi (t)': cons_t,'const_n_first': const_n_first,'Ev': const_Ev,'Racc': Racc,'Time': te2, 'tahun true': list_tahun_true}, ignore_index=True)\n",
        "\n",
        "        #pd.concat([df_hasil_akhir, df_temp_hasil], axis=0)\n",
        "        #df_hasil_akhir = df_hasil_akhir.append(v_Racc_new, ignore_index = True) # ignoring index is optional\n",
        "\n",
        "tf = datetime.datetime.now()\n",
        "te = tf - ts\n",
        "print('Waktu keseluruhan = ',te)\n",
        "\n",
        "df_hasil_akhir\n",
        "\n",
        "# Simpan df_hasil_akhir dalam file csv\n",
        "file_name = 'df_hasil_akhir2.csv'\n",
        "df_hasil_akhir.to_csv(file_name, encoding='utf-8', index=False)"
      ],
      "execution_count": 95,
      "outputs": [
        {
          "output_type": "stream",
          "text": [
            "Waktu keseluruhan =  0:29:15.719252\n"
          ],
          "name": "stdout"
        }
      ]
    },
    {
      "cell_type": "code",
      "metadata": {
        "id": "N3eJ3kkH39Qu",
        "colab_type": "code",
        "colab": {}
      },
      "source": [
        ""
      ],
      "execution_count": 0,
      "outputs": []
    },
    {
      "cell_type": "code",
      "metadata": {
        "id": "OeVBGem3I4I6",
        "colab_type": "code",
        "colab": {
          "base_uri": "https://localhost:8080/",
          "height": 35
        },
        "outputId": "71cbef5c-44de-4c5d-c20f-cb5456cf701c"
      },
      "source": [
        "# ========Skema Pengujian Stategis ke-3 ====================> Best & Better\n",
        "\n",
        "# load dataset\n",
        "import pandas as pd\n",
        "import numpy as np\n",
        "import datetime\n",
        "# load data as dataframe (df)\n",
        "#df_load_data = pd.read_csv('./dataset/weatherHistory.csv')\n",
        "#df_ramadan = pd.read_csv('./dataset/ramadanDate.csv')\n",
        "\n",
        "#fitur terpilih\n",
        "nama_fitur = ['Temperature (C)', 'Apparent Temperature (C)', 'Humidity', 'Wind Speed (km/h)','Wind Bearing (degrees)', 'Visibility (km)', 'Pressure (millibars)']\n",
        "\n",
        "df_hasil_akhir = pd.DataFrame(np.empty((0, 7))) #creates a new dataframe that's empty\n",
        "df_hasil_akhir.columns=['nama fitur', 'suhu bumi (t)', 'const_n_first', 'Ev','Racc','Time','tahun true']\n",
        "\n",
        "ts = datetime.datetime.now()\n",
        "#for hh in range(len(nama_fitur)): # utk loop fitur di dataset Weather ter\n",
        "for hh in range(7): # utk loop fitur di dataset Weather ter\n",
        "#for hh in range(1): # utk loop fitur di dataset Weather ter\n",
        "  \n",
        "  #for ii in range(15,40): # utk loop parameter suhu ideal bumi (t)=[15;40]\n",
        "  #for ii in np.arange(15, 40.01, 0.01): # utk loop parameter suhu ideal bumi (t)=[15;40] dgn incrment 0.01\n",
        "  for ii in np.arange(10, 41, 1): # utk loop parameter suhu ideal bumi (t)=[10;40] dgn incrment 1\n",
        "  #for ii in np.arange(19, 20, 1): # utk loop parameter suhu ideal bumi (t)=[10;40] dgn incrment 1\n",
        "  #for ii in range(1): # utk loop parameter suhu ideal bumi (t)=[15;40] dgn incrment 0.01\n",
        "    cons_t = ii\n",
        "    #for jj in range(1): # utk loop parameter const_n_first\n",
        "    for jj in np.arange(1, 21, 1): # utk loop parameter const_n_first= [1;15]\n",
        "    #for jj in np.arange(12, 13, 1): # utk loop parameter const_n_first= [1;15]\n",
        "      const_n_first = jj\n",
        "      for kk in range(4): # utk loop parameter Ev = [0;3]\n",
        "        const_Ev = kk\n",
        "\n",
        "        ts2 = datetime.datetime.now()\n",
        "        #start To Do\n",
        "        #-----------       \n",
        "\n",
        "        df_load_data = pd.read_csv('./dataset/weatherHistory.csv')\n",
        "\n",
        "        # salin hasil penghitungan Mean ke df2\n",
        "        df2 = df_load_data[nama_fitur[hh]].groupby(df_load_data[\"Formatted Date\"].str[:10]).mean().reset_index(name='AVG').copy()\n",
        "\n",
        "        # hitung hasil absolute selisih dari nilai Mean (AVG) dikurangi cons_t\n",
        "        depth=df2['AVG']-cons_t\n",
        "        df2.insert(2,'Selisih',depth.abs())\n",
        "\n",
        "        # Convert Formatted Date ke datetime\n",
        "        df2['Formatted Date'] =  pd.to_datetime(df2['Formatted Date'])\n",
        "        #df2[\"Formatted Date\"].dt.year\n",
        "\n",
        "        # Get date yang memiliki nilai minimal \"Selisih\" tiap tahun, diambil berapa terdekat (const_n_first)\n",
        "        #const_n_first = 5\n",
        "        df3 = df2.sort_values(\"Selisih\").groupby(df2[\"Formatted Date\"].dt.year, as_index=False).head(const_n_first).sort_values(\"Formatted Date\").reset_index(drop=True, inplace=False).copy()\n",
        "\n",
        "        # load data as dataframe (df)\n",
        "        df_ramadan = pd.read_csv('./dataset/ramadanDate.csv')\n",
        "\n",
        "        #Convert kolom \"Mulai Ramadan\" dan \"Selesai Ramadan\" ke datetime\n",
        "        df_ramadan['Mulai Ramadan']= pd.to_datetime(df_ramadan['Mulai Ramadan'])\n",
        "        df_ramadan['Selesai Ramadan']= pd.to_datetime(df_ramadan['Selesai Ramadan'])    \n",
        "\n",
        "        # Mengubah interval Ramadan menjadi lebih lebar, yaitu pada interval [vRMin-abs(Ev); vRMax+abs(Ev)]. \n",
        "        # Misal Ev diset dengan nilai 0 atau maks dengan nilai 5 (hari).\n",
        "        # const_Ev = 2\n",
        "        df_ramadan['Mulai Ramadan'] = df_ramadan['Mulai Ramadan'] - pd.Timedelta(const_Ev, unit='d')\n",
        "        df_ramadan['Selesai Ramadan'] = df_ramadan['Selesai Ramadan'] + pd.Timedelta(const_Ev, unit='d')\n",
        "\n",
        "\n",
        "        # df_ramadan padding kebawah sebanyak const_n_first, agar ketika di merger sukses  \n",
        "        # .reset_index(drop=True, inplace=False).copy()\n",
        "        df_ramadan = pd.concat([df_ramadan]*const_n_first).sort_index().reset_index(drop=True, inplace=False)\n",
        "\n",
        "        # Tampilkan hasil merger df2 dan df_ramadan\n",
        "        df_col_merged = pd.concat([df3, df_ramadan], axis=1)\n",
        "\n",
        "        df_match = df_col_merged[df_col_merged['Formatted Date'].between(df_col_merged['Mulai Ramadan'], df_col_merged['Selesai Ramadan'], inclusive=False)].copy()\n",
        "\n",
        "        # df_match.groupby(df_match[\"Tahun\"]).size()\n",
        "        df_match_temp = df_match.groupby(df_match[\"Tahun\"]).size().reset_index().copy()\n",
        "        df_match_temp = df_match_temp.applymap(str)\n",
        "        list_tahun_true = '|'.join([str(i) for i in df_match_temp['Tahun'].tolist()])\n",
        "        \n",
        "        # Hitung couter_Match_In_Range (cM) dari kondisi pada df3 hanya diambil 1 terdekat (firt only)\n",
        "        cM = len(df_match.groupby(df_match[\"Tahun\"]).size().index)\n",
        "\n",
        "        # Hitung Akurasi (dengan Range Accuracy (Racc))\n",
        "        Byk_tahun = len(df_ramadan.index)/const_n_first\n",
        "        #print(Byk_tahun)\n",
        "        Racc = cM/Byk_tahun\n",
        "        #print('Akurasi Range (Racc) = ',Racc)\n",
        "\n",
        "\n",
        "\n",
        "        #---------------\n",
        "        #end To Do\n",
        "        tf2 = datetime.datetime.now()\n",
        "        te2 = tf2 - ts2\n",
        "\n",
        "        #print('.')\n",
        "        #df_hasil_akhir['nama fitur'].append(str(nama_fitur[hh]), ignore_index = True)\n",
        "        df_hasil_akhir = df_hasil_akhir.append({'nama fitur': nama_fitur[hh],'suhu bumi (t)': cons_t,'const_n_first': const_n_first,'Ev': const_Ev,'Racc': Racc,'Time': te2, 'tahun true': list_tahun_true}, ignore_index=True)\n",
        "\n",
        "        #pd.concat([df_hasil_akhir, df_temp_hasil], axis=0)\n",
        "        #df_hasil_akhir = df_hasil_akhir.append(v_Racc_new, ignore_index = True) # ignoring index is optional\n",
        "\n",
        "tf = datetime.datetime.now()\n",
        "te = tf - ts\n",
        "print('Waktu keseluruhan = ',te)\n",
        "\n",
        "df_hasil_akhir\n",
        "\n",
        "# Simpan df_hasil_akhir dalam file csv\n",
        "file_name = 'df_hasil_akhir3.csv'\n",
        "df_hasil_akhir.to_csv(file_name, encoding='utf-8', index=False)"
      ],
      "execution_count": 99,
      "outputs": [
        {
          "output_type": "stream",
          "text": [
            "Waktu keseluruhan =  1:41:56.613700\n"
          ],
          "name": "stdout"
        }
      ]
    },
    {
      "cell_type": "code",
      "metadata": {
        "id": "fHi9H669qYqL",
        "colab_type": "code",
        "colab": {}
      },
      "source": [
        ""
      ],
      "execution_count": 0,
      "outputs": []
    },
    {
      "cell_type": "code",
      "metadata": {
        "id": "IhBNocZWrw2p",
        "colab_type": "code",
        "colab": {}
      },
      "source": [
        "# ========Skema Pengujian Besar ====================\n",
        "\n",
        "# load dataset\n",
        "import pandas as pd\n",
        "import numpy as np\n",
        "import datetime\n",
        "# load data as dataframe (df)\n",
        "df_load_data = pd.read_csv('./dataset/weatherHistory.csv')\n",
        "#df_ramadan = pd.read_csv('./dataset/ramadanDate.csv')\n",
        "\n",
        "#fitur terpilih\n",
        "nama_fitur = ['Temperature (C)', 'Apparent Temperature (C)', 'Humidity', 'Wind Speed (km/h)','Wind Bearing (degrees)', 'Visibility (km)', 'Pressure (millibars)']\n",
        "\n",
        "df_hasil_akhir = pd.DataFrame(np.empty((0, 6))) #creates a new dataframe that's empty\n",
        "df_hasil_akhir.columns=['nama fitur', 'suhu bumi (t)', 'const_n_first', 'Ev','Racc','Time']\n",
        "\n",
        "ts = datetime.datetime.now()\n",
        "#for hh in range(len(nama_fitur)): # utk loop fitur di dataset Weather ter\n",
        "for hh in range(1): # utk loop fitur di dataset Weather ter\n",
        "  #for ii in range(15,40): # utk loop parameter suhu ideal bumi (t)=[15;40]\n",
        "  for ii in np.arange(15, 40.01, 0.01): # utk loop parameter suhu ideal bumi (t)=[15;40] dgn incrment 0.01\n",
        "  #for ii in range(1): # utk loop parameter suhu ideal bumi (t)=[15;40] dgn incrment 0.01\n",
        "    t = ii\n",
        "    #for jj in range(1): # utk loop parameter const_n_first\n",
        "    for jj in np.arange(1, 4, 1): # utk loop parameter const_n_first= [1;3]\n",
        "      const_n_first = jj\n",
        "      for kk in range(4): # utk loop parameter Ev = [0;3]\n",
        "        Ev = kk\n",
        "        Racc = 100\n",
        "\n",
        "        ts2 = datetime.datetime.now()\n",
        "        #start To Do\n",
        "        # ..\n",
        "        #end To Do\n",
        "        tf2 = datetime.datetime.now()\n",
        "        te2 = tf2 - ts2\n",
        "\n",
        "        #print('.')\n",
        "        #df_hasil_akhir['nama fitur'].append(str(nama_fitur[hh]), ignore_index = True)\n",
        "        df_hasil_akhir = df_hasil_akhir.append({'nama fitur': nama_fitur[hh],'suhu bumi (t)': t,'const_n_first': const_n_first,'Ev': Ev,'Racc': Racc,'Time': te2}, ignore_index=True)\n",
        "\n",
        "        #pd.concat([df_hasil_akhir, df_temp_hasil], axis=0)\n",
        "        #df_hasil_akhir = df_hasil_akhir.append(v_Racc_new, ignore_index = True) # ignoring index is optional\n",
        "\n",
        "tf = datetime.datetime.now()\n",
        "te = tf - ts\n",
        "print('Waktu keseluruhan = ',te)\n",
        "\n",
        "df_hasil_akhir\n",
        "\n"
      ],
      "execution_count": 0,
      "outputs": []
    },
    {
      "cell_type": "code",
      "metadata": {
        "id": "D3G89gOqrxRa",
        "colab_type": "code",
        "colab": {}
      },
      "source": [
        ""
      ],
      "execution_count": 0,
      "outputs": []
    },
    {
      "cell_type": "code",
      "metadata": {
        "id": "uUM1-28PrxjE",
        "colab_type": "code",
        "colab": {}
      },
      "source": [
        "# ========= End Untuk Pengujian Otomatis dengan nilai Parameter Dinamis ========="
      ],
      "execution_count": 0,
      "outputs": []
    },
    {
      "cell_type": "code",
      "metadata": {
        "id": "ASJYs53ZrxF2",
        "colab_type": "code",
        "colab": {}
      },
      "source": [
        ""
      ],
      "execution_count": 0,
      "outputs": []
    },
    {
      "cell_type": "code",
      "metadata": {
        "id": "s6AH42nRZuCx",
        "colab_type": "code",
        "colab": {
          "base_uri": "https://localhost:8080/",
          "height": 257
        },
        "outputId": "7adc0db7-471f-4ee2-dc54-ea68db5c3d43"
      },
      "source": [
        "# Hitung banyak anggota tiap cluster per date yang sama\n",
        "# kenapa 24, karena setiap harinya suhu diambi datanya tiap 1 jam, jadi total data tiap hari (per date) ada sebanyak 24\n",
        "df_load_data[[\"Temperature (C)\"]].groupby(df_load_data[\"Formatted Date\"].str[:10]).size()"
      ],
      "execution_count": 117,
      "outputs": [
        {
          "output_type": "execute_result",
          "data": {
            "text/plain": [
              "Formatted Date\n",
              "2006-01-01    24\n",
              "2006-01-02    24\n",
              "2006-01-03    24\n",
              "2006-01-04    24\n",
              "2006-01-05    24\n",
              "              ..\n",
              "2016-12-27    24\n",
              "2016-12-28    24\n",
              "2016-12-29    24\n",
              "2016-12-30    24\n",
              "2016-12-31    24\n",
              "Length: 4018, dtype: int64"
            ]
          },
          "metadata": {
            "tags": []
          },
          "execution_count": 117
        }
      ]
    },
    {
      "cell_type": "code",
      "metadata": {
        "id": "RhaC2KG4bxcZ",
        "colab_type": "code",
        "colab": {
          "base_uri": "https://localhost:8080/",
          "height": 257
        },
        "outputId": "56a769b4-df4d-441f-9a0f-1ae4889c2585"
      },
      "source": [
        "# Hitung banyak anggota tiap cluster per date yang sama, tiap tahun ada sebanyak 365*24 = 8760\n",
        "df_load_data[[\"Temperature (C)\"]].groupby(df_load_data[\"Formatted Date\"].str[:4]).size()"
      ],
      "execution_count": 118,
      "outputs": [
        {
          "output_type": "execute_result",
          "data": {
            "text/plain": [
              "Formatted Date\n",
              "2006    8760\n",
              "2007    8760\n",
              "2008    8784\n",
              "2009    8760\n",
              "2010    8784\n",
              "2011    8760\n",
              "2012    8784\n",
              "2013    8760\n",
              "2014    8757\n",
              "2015    8760\n",
              "2016    8784\n",
              "dtype: int64"
            ]
          },
          "metadata": {
            "tags": []
          },
          "execution_count": 118
        }
      ]
    }
  ]
}